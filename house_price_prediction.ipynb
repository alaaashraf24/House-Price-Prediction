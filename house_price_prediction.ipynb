{
  "nbformat": 4,
  "nbformat_minor": 0,
  "metadata": {
    "colab": {
      "provenance": []
    },
    "kernelspec": {
      "name": "python3",
      "display_name": "Python 3"
    },
    "language_info": {
      "name": "python"
    }
  },
  "cells": [
    {
      "cell_type": "markdown",
      "source": [
        "# **House Price Prediction**"
      ],
      "metadata": {
        "id": "PgcphjhLVrRu"
      }
    },
    {
      "cell_type": "markdown",
      "source": [
        "# 1 - Import Libraries"
      ],
      "metadata": {
        "id": "TnYVOjZ-KfR9"
      }
    },
    {
      "cell_type": "code",
      "source": [
        "import pandas as pd\n",
        "import numpy as np\n",
        "import matplotlib.pyplot as plt\n",
        "import seaborn as sns\n",
        "from datetime import datetime\n",
        "import warnings\n",
        "warnings.filterwarnings('ignore')\n",
        "from sklearn.model_selection import train_test_split, GridSearchCV, cross_val_score\n",
        "from sklearn.linear_model import LinearRegression, Ridge, Lasso\n",
        "from sklearn.ensemble import RandomForestRegressor, GradientBoostingRegressor, ExtraTreesRegressor\n",
        "from sklearn.preprocessing import StandardScaler, RobustScaler, PowerTransformer\n",
        "from sklearn.metrics import mean_squared_error, r2_score, mean_absolute_error\n",
        "from sklearn.feature_selection import SelectKBest, f_regression\n",
        "from scipy import stats\n",
        "from scipy.stats import boxcox\n",
        "import xgboost as xgb"
      ],
      "metadata": {
        "id": "ySKPTXzwJ-d_"
      },
      "execution_count": 2,
      "outputs": []
    },
    {
      "cell_type": "code",
      "source": [
        "# Set style for better plots\n",
        "plt.style.use('default')\n",
        "sns.set_palette(\"husl\")"
      ],
      "metadata": {
        "id": "FjUkXQNoJ-gJ"
      },
      "execution_count": 3,
      "outputs": []
    },
    {
      "cell_type": "markdown",
      "source": [
        "# 2 - Load and examine data quality"
      ],
      "metadata": {
        "id": "dfk6LmC_KuHn"
      }
    },
    {
      "cell_type": "code",
      "source": [
        "# Load the dataset\n",
        "df = pd.read_csv('data.csv')"
      ],
      "metadata": {
        "id": "JFldaarBK9aH"
      },
      "execution_count": 4,
      "outputs": []
    },
    {
      "cell_type": "code",
      "source": [
        "df.head()"
      ],
      "metadata": {
        "colab": {
          "base_uri": "https://localhost:8080/",
          "height": 417
        },
        "id": "2MkWY7gCLDCy",
        "outputId": "49dbb33f-2ce8-4544-f421-97c18ecb34f9"
      },
      "execution_count": 5,
      "outputs": [
        {
          "output_type": "execute_result",
          "data": {
            "text/plain": [
              "                  date      price  bedrooms  bathrooms  sqft_living  sqft_lot  \\\n",
              "0  2014-05-02 00:00:00   313000.0       3.0       1.50         1340      7912   \n",
              "1  2014-05-02 00:00:00  2384000.0       5.0       2.50         3650      9050   \n",
              "2  2014-05-02 00:00:00   342000.0       3.0       2.00         1930     11947   \n",
              "3  2014-05-02 00:00:00   420000.0       3.0       2.25         2000      8030   \n",
              "4  2014-05-02 00:00:00   550000.0       4.0       2.50         1940     10500   \n",
              "\n",
              "   floors  waterfront  view  condition  sqft_above  sqft_basement  yr_built  \\\n",
              "0     1.5           0     0          3        1340              0      1955   \n",
              "1     2.0           0     4          5        3370            280      1921   \n",
              "2     1.0           0     0          4        1930              0      1966   \n",
              "3     1.0           0     0          4        1000           1000      1963   \n",
              "4     1.0           0     0          4        1140            800      1976   \n",
              "\n",
              "   yr_renovated                    street       city  statezip country  \n",
              "0          2005      18810 Densmore Ave N  Shoreline  WA 98133     USA  \n",
              "1             0           709 W Blaine St    Seattle  WA 98119     USA  \n",
              "2             0  26206-26214 143rd Ave SE       Kent  WA 98042     USA  \n",
              "3             0           857 170th Pl NE   Bellevue  WA 98008     USA  \n",
              "4          1992         9105 170th Ave NE    Redmond  WA 98052     USA  "
            ],
            "text/html": [
              "\n",
              "  <div id=\"df-872a4556-9bb4-4209-8653-27c48758efa3\" class=\"colab-df-container\">\n",
              "    <div>\n",
              "<style scoped>\n",
              "    .dataframe tbody tr th:only-of-type {\n",
              "        vertical-align: middle;\n",
              "    }\n",
              "\n",
              "    .dataframe tbody tr th {\n",
              "        vertical-align: top;\n",
              "    }\n",
              "\n",
              "    .dataframe thead th {\n",
              "        text-align: right;\n",
              "    }\n",
              "</style>\n",
              "<table border=\"1\" class=\"dataframe\">\n",
              "  <thead>\n",
              "    <tr style=\"text-align: right;\">\n",
              "      <th></th>\n",
              "      <th>date</th>\n",
              "      <th>price</th>\n",
              "      <th>bedrooms</th>\n",
              "      <th>bathrooms</th>\n",
              "      <th>sqft_living</th>\n",
              "      <th>sqft_lot</th>\n",
              "      <th>floors</th>\n",
              "      <th>waterfront</th>\n",
              "      <th>view</th>\n",
              "      <th>condition</th>\n",
              "      <th>sqft_above</th>\n",
              "      <th>sqft_basement</th>\n",
              "      <th>yr_built</th>\n",
              "      <th>yr_renovated</th>\n",
              "      <th>street</th>\n",
              "      <th>city</th>\n",
              "      <th>statezip</th>\n",
              "      <th>country</th>\n",
              "    </tr>\n",
              "  </thead>\n",
              "  <tbody>\n",
              "    <tr>\n",
              "      <th>0</th>\n",
              "      <td>2014-05-02 00:00:00</td>\n",
              "      <td>313000.0</td>\n",
              "      <td>3.0</td>\n",
              "      <td>1.50</td>\n",
              "      <td>1340</td>\n",
              "      <td>7912</td>\n",
              "      <td>1.5</td>\n",
              "      <td>0</td>\n",
              "      <td>0</td>\n",
              "      <td>3</td>\n",
              "      <td>1340</td>\n",
              "      <td>0</td>\n",
              "      <td>1955</td>\n",
              "      <td>2005</td>\n",
              "      <td>18810 Densmore Ave N</td>\n",
              "      <td>Shoreline</td>\n",
              "      <td>WA 98133</td>\n",
              "      <td>USA</td>\n",
              "    </tr>\n",
              "    <tr>\n",
              "      <th>1</th>\n",
              "      <td>2014-05-02 00:00:00</td>\n",
              "      <td>2384000.0</td>\n",
              "      <td>5.0</td>\n",
              "      <td>2.50</td>\n",
              "      <td>3650</td>\n",
              "      <td>9050</td>\n",
              "      <td>2.0</td>\n",
              "      <td>0</td>\n",
              "      <td>4</td>\n",
              "      <td>5</td>\n",
              "      <td>3370</td>\n",
              "      <td>280</td>\n",
              "      <td>1921</td>\n",
              "      <td>0</td>\n",
              "      <td>709 W Blaine St</td>\n",
              "      <td>Seattle</td>\n",
              "      <td>WA 98119</td>\n",
              "      <td>USA</td>\n",
              "    </tr>\n",
              "    <tr>\n",
              "      <th>2</th>\n",
              "      <td>2014-05-02 00:00:00</td>\n",
              "      <td>342000.0</td>\n",
              "      <td>3.0</td>\n",
              "      <td>2.00</td>\n",
              "      <td>1930</td>\n",
              "      <td>11947</td>\n",
              "      <td>1.0</td>\n",
              "      <td>0</td>\n",
              "      <td>0</td>\n",
              "      <td>4</td>\n",
              "      <td>1930</td>\n",
              "      <td>0</td>\n",
              "      <td>1966</td>\n",
              "      <td>0</td>\n",
              "      <td>26206-26214 143rd Ave SE</td>\n",
              "      <td>Kent</td>\n",
              "      <td>WA 98042</td>\n",
              "      <td>USA</td>\n",
              "    </tr>\n",
              "    <tr>\n",
              "      <th>3</th>\n",
              "      <td>2014-05-02 00:00:00</td>\n",
              "      <td>420000.0</td>\n",
              "      <td>3.0</td>\n",
              "      <td>2.25</td>\n",
              "      <td>2000</td>\n",
              "      <td>8030</td>\n",
              "      <td>1.0</td>\n",
              "      <td>0</td>\n",
              "      <td>0</td>\n",
              "      <td>4</td>\n",
              "      <td>1000</td>\n",
              "      <td>1000</td>\n",
              "      <td>1963</td>\n",
              "      <td>0</td>\n",
              "      <td>857 170th Pl NE</td>\n",
              "      <td>Bellevue</td>\n",
              "      <td>WA 98008</td>\n",
              "      <td>USA</td>\n",
              "    </tr>\n",
              "    <tr>\n",
              "      <th>4</th>\n",
              "      <td>2014-05-02 00:00:00</td>\n",
              "      <td>550000.0</td>\n",
              "      <td>4.0</td>\n",
              "      <td>2.50</td>\n",
              "      <td>1940</td>\n",
              "      <td>10500</td>\n",
              "      <td>1.0</td>\n",
              "      <td>0</td>\n",
              "      <td>0</td>\n",
              "      <td>4</td>\n",
              "      <td>1140</td>\n",
              "      <td>800</td>\n",
              "      <td>1976</td>\n",
              "      <td>1992</td>\n",
              "      <td>9105 170th Ave NE</td>\n",
              "      <td>Redmond</td>\n",
              "      <td>WA 98052</td>\n",
              "      <td>USA</td>\n",
              "    </tr>\n",
              "  </tbody>\n",
              "</table>\n",
              "</div>\n",
              "    <div class=\"colab-df-buttons\">\n",
              "\n",
              "  <div class=\"colab-df-container\">\n",
              "    <button class=\"colab-df-convert\" onclick=\"convertToInteractive('df-872a4556-9bb4-4209-8653-27c48758efa3')\"\n",
              "            title=\"Convert this dataframe to an interactive table.\"\n",
              "            style=\"display:none;\">\n",
              "\n",
              "  <svg xmlns=\"http://www.w3.org/2000/svg\" height=\"24px\" viewBox=\"0 -960 960 960\">\n",
              "    <path d=\"M120-120v-720h720v720H120Zm60-500h600v-160H180v160Zm220 220h160v-160H400v160Zm0 220h160v-160H400v160ZM180-400h160v-160H180v160Zm440 0h160v-160H620v160ZM180-180h160v-160H180v160Zm440 0h160v-160H620v160Z\"/>\n",
              "  </svg>\n",
              "    </button>\n",
              "\n",
              "  <style>\n",
              "    .colab-df-container {\n",
              "      display:flex;\n",
              "      gap: 12px;\n",
              "    }\n",
              "\n",
              "    .colab-df-convert {\n",
              "      background-color: #E8F0FE;\n",
              "      border: none;\n",
              "      border-radius: 50%;\n",
              "      cursor: pointer;\n",
              "      display: none;\n",
              "      fill: #1967D2;\n",
              "      height: 32px;\n",
              "      padding: 0 0 0 0;\n",
              "      width: 32px;\n",
              "    }\n",
              "\n",
              "    .colab-df-convert:hover {\n",
              "      background-color: #E2EBFA;\n",
              "      box-shadow: 0px 1px 2px rgba(60, 64, 67, 0.3), 0px 1px 3px 1px rgba(60, 64, 67, 0.15);\n",
              "      fill: #174EA6;\n",
              "    }\n",
              "\n",
              "    .colab-df-buttons div {\n",
              "      margin-bottom: 4px;\n",
              "    }\n",
              "\n",
              "    [theme=dark] .colab-df-convert {\n",
              "      background-color: #3B4455;\n",
              "      fill: #D2E3FC;\n",
              "    }\n",
              "\n",
              "    [theme=dark] .colab-df-convert:hover {\n",
              "      background-color: #434B5C;\n",
              "      box-shadow: 0px 1px 3px 1px rgba(0, 0, 0, 0.15);\n",
              "      filter: drop-shadow(0px 1px 2px rgba(0, 0, 0, 0.3));\n",
              "      fill: #FFFFFF;\n",
              "    }\n",
              "  </style>\n",
              "\n",
              "    <script>\n",
              "      const buttonEl =\n",
              "        document.querySelector('#df-872a4556-9bb4-4209-8653-27c48758efa3 button.colab-df-convert');\n",
              "      buttonEl.style.display =\n",
              "        google.colab.kernel.accessAllowed ? 'block' : 'none';\n",
              "\n",
              "      async function convertToInteractive(key) {\n",
              "        const element = document.querySelector('#df-872a4556-9bb4-4209-8653-27c48758efa3');\n",
              "        const dataTable =\n",
              "          await google.colab.kernel.invokeFunction('convertToInteractive',\n",
              "                                                    [key], {});\n",
              "        if (!dataTable) return;\n",
              "\n",
              "        const docLinkHtml = 'Like what you see? Visit the ' +\n",
              "          '<a target=\"_blank\" href=https://colab.research.google.com/notebooks/data_table.ipynb>data table notebook</a>'\n",
              "          + ' to learn more about interactive tables.';\n",
              "        element.innerHTML = '';\n",
              "        dataTable['output_type'] = 'display_data';\n",
              "        await google.colab.output.renderOutput(dataTable, element);\n",
              "        const docLink = document.createElement('div');\n",
              "        docLink.innerHTML = docLinkHtml;\n",
              "        element.appendChild(docLink);\n",
              "      }\n",
              "    </script>\n",
              "  </div>\n",
              "\n",
              "\n",
              "    <div id=\"df-18181017-bb41-4025-afdc-bb8bf9f786b0\">\n",
              "      <button class=\"colab-df-quickchart\" onclick=\"quickchart('df-18181017-bb41-4025-afdc-bb8bf9f786b0')\"\n",
              "                title=\"Suggest charts\"\n",
              "                style=\"display:none;\">\n",
              "\n",
              "<svg xmlns=\"http://www.w3.org/2000/svg\" height=\"24px\"viewBox=\"0 0 24 24\"\n",
              "     width=\"24px\">\n",
              "    <g>\n",
              "        <path d=\"M19 3H5c-1.1 0-2 .9-2 2v14c0 1.1.9 2 2 2h14c1.1 0 2-.9 2-2V5c0-1.1-.9-2-2-2zM9 17H7v-7h2v7zm4 0h-2V7h2v10zm4 0h-2v-4h2v4z\"/>\n",
              "    </g>\n",
              "</svg>\n",
              "      </button>\n",
              "\n",
              "<style>\n",
              "  .colab-df-quickchart {\n",
              "      --bg-color: #E8F0FE;\n",
              "      --fill-color: #1967D2;\n",
              "      --hover-bg-color: #E2EBFA;\n",
              "      --hover-fill-color: #174EA6;\n",
              "      --disabled-fill-color: #AAA;\n",
              "      --disabled-bg-color: #DDD;\n",
              "  }\n",
              "\n",
              "  [theme=dark] .colab-df-quickchart {\n",
              "      --bg-color: #3B4455;\n",
              "      --fill-color: #D2E3FC;\n",
              "      --hover-bg-color: #434B5C;\n",
              "      --hover-fill-color: #FFFFFF;\n",
              "      --disabled-bg-color: #3B4455;\n",
              "      --disabled-fill-color: #666;\n",
              "  }\n",
              "\n",
              "  .colab-df-quickchart {\n",
              "    background-color: var(--bg-color);\n",
              "    border: none;\n",
              "    border-radius: 50%;\n",
              "    cursor: pointer;\n",
              "    display: none;\n",
              "    fill: var(--fill-color);\n",
              "    height: 32px;\n",
              "    padding: 0;\n",
              "    width: 32px;\n",
              "  }\n",
              "\n",
              "  .colab-df-quickchart:hover {\n",
              "    background-color: var(--hover-bg-color);\n",
              "    box-shadow: 0 1px 2px rgba(60, 64, 67, 0.3), 0 1px 3px 1px rgba(60, 64, 67, 0.15);\n",
              "    fill: var(--button-hover-fill-color);\n",
              "  }\n",
              "\n",
              "  .colab-df-quickchart-complete:disabled,\n",
              "  .colab-df-quickchart-complete:disabled:hover {\n",
              "    background-color: var(--disabled-bg-color);\n",
              "    fill: var(--disabled-fill-color);\n",
              "    box-shadow: none;\n",
              "  }\n",
              "\n",
              "  .colab-df-spinner {\n",
              "    border: 2px solid var(--fill-color);\n",
              "    border-color: transparent;\n",
              "    border-bottom-color: var(--fill-color);\n",
              "    animation:\n",
              "      spin 1s steps(1) infinite;\n",
              "  }\n",
              "\n",
              "  @keyframes spin {\n",
              "    0% {\n",
              "      border-color: transparent;\n",
              "      border-bottom-color: var(--fill-color);\n",
              "      border-left-color: var(--fill-color);\n",
              "    }\n",
              "    20% {\n",
              "      border-color: transparent;\n",
              "      border-left-color: var(--fill-color);\n",
              "      border-top-color: var(--fill-color);\n",
              "    }\n",
              "    30% {\n",
              "      border-color: transparent;\n",
              "      border-left-color: var(--fill-color);\n",
              "      border-top-color: var(--fill-color);\n",
              "      border-right-color: var(--fill-color);\n",
              "    }\n",
              "    40% {\n",
              "      border-color: transparent;\n",
              "      border-right-color: var(--fill-color);\n",
              "      border-top-color: var(--fill-color);\n",
              "    }\n",
              "    60% {\n",
              "      border-color: transparent;\n",
              "      border-right-color: var(--fill-color);\n",
              "    }\n",
              "    80% {\n",
              "      border-color: transparent;\n",
              "      border-right-color: var(--fill-color);\n",
              "      border-bottom-color: var(--fill-color);\n",
              "    }\n",
              "    90% {\n",
              "      border-color: transparent;\n",
              "      border-bottom-color: var(--fill-color);\n",
              "    }\n",
              "  }\n",
              "</style>\n",
              "\n",
              "      <script>\n",
              "        async function quickchart(key) {\n",
              "          const quickchartButtonEl =\n",
              "            document.querySelector('#' + key + ' button');\n",
              "          quickchartButtonEl.disabled = true;  // To prevent multiple clicks.\n",
              "          quickchartButtonEl.classList.add('colab-df-spinner');\n",
              "          try {\n",
              "            const charts = await google.colab.kernel.invokeFunction(\n",
              "                'suggestCharts', [key], {});\n",
              "          } catch (error) {\n",
              "            console.error('Error during call to suggestCharts:', error);\n",
              "          }\n",
              "          quickchartButtonEl.classList.remove('colab-df-spinner');\n",
              "          quickchartButtonEl.classList.add('colab-df-quickchart-complete');\n",
              "        }\n",
              "        (() => {\n",
              "          let quickchartButtonEl =\n",
              "            document.querySelector('#df-18181017-bb41-4025-afdc-bb8bf9f786b0 button');\n",
              "          quickchartButtonEl.style.display =\n",
              "            google.colab.kernel.accessAllowed ? 'block' : 'none';\n",
              "        })();\n",
              "      </script>\n",
              "    </div>\n",
              "\n",
              "    </div>\n",
              "  </div>\n"
            ],
            "application/vnd.google.colaboratory.intrinsic+json": {
              "type": "dataframe",
              "variable_name": "df",
              "summary": "{\n  \"name\": \"df\",\n  \"rows\": 4600,\n  \"fields\": [\n    {\n      \"column\": \"date\",\n      \"properties\": {\n        \"dtype\": \"object\",\n        \"num_unique_values\": 70,\n        \"samples\": [\n          \"2014-05-24 00:00:00\",\n          \"2014-05-02 00:00:00\",\n          \"2014-06-20 00:00:00\"\n        ],\n        \"semantic_type\": \"\",\n        \"description\": \"\"\n      }\n    },\n    {\n      \"column\": \"price\",\n      \"properties\": {\n        \"dtype\": \"number\",\n        \"std\": 563834.7025471417,\n        \"min\": 0.0,\n        \"max\": 26590000.0,\n        \"num_unique_values\": 1741,\n        \"samples\": [\n          689900.0,\n          170500.0,\n          466800.0\n        ],\n        \"semantic_type\": \"\",\n        \"description\": \"\"\n      }\n    },\n    {\n      \"column\": \"bedrooms\",\n      \"properties\": {\n        \"dtype\": \"number\",\n        \"std\": 0.9088481155258205,\n        \"min\": 0.0,\n        \"max\": 9.0,\n        \"num_unique_values\": 10,\n        \"samples\": [\n          8.0,\n          5.0,\n          7.0\n        ],\n        \"semantic_type\": \"\",\n        \"description\": \"\"\n      }\n    },\n    {\n      \"column\": \"bathrooms\",\n      \"properties\": {\n        \"dtype\": \"number\",\n        \"std\": 0.7837810746502787,\n        \"min\": 0.0,\n        \"max\": 8.0,\n        \"num_unique_values\": 26,\n        \"samples\": [\n          3.25,\n          5.75,\n          1.5\n        ],\n        \"semantic_type\": \"\",\n        \"description\": \"\"\n      }\n    },\n    {\n      \"column\": \"sqft_living\",\n      \"properties\": {\n        \"dtype\": \"number\",\n        \"std\": 963,\n        \"min\": 370,\n        \"max\": 13540,\n        \"num_unique_values\": 566,\n        \"samples\": [\n          1785,\n          2701,\n          2840\n        ],\n        \"semantic_type\": \"\",\n        \"description\": \"\"\n      }\n    },\n    {\n      \"column\": \"sqft_lot\",\n      \"properties\": {\n        \"dtype\": \"number\",\n        \"std\": 35884,\n        \"min\": 638,\n        \"max\": 1074218,\n        \"num_unique_values\": 3113,\n        \"samples\": [\n          5540,\n          9292,\n          17334\n        ],\n        \"semantic_type\": \"\",\n        \"description\": \"\"\n      }\n    },\n    {\n      \"column\": \"floors\",\n      \"properties\": {\n        \"dtype\": \"number\",\n        \"std\": 0.5382883772969805,\n        \"min\": 1.0,\n        \"max\": 3.5,\n        \"num_unique_values\": 6,\n        \"samples\": [\n          1.5,\n          2.0,\n          3.5\n        ],\n        \"semantic_type\": \"\",\n        \"description\": \"\"\n      }\n    },\n    {\n      \"column\": \"waterfront\",\n      \"properties\": {\n        \"dtype\": \"number\",\n        \"std\": 0,\n        \"min\": 0,\n        \"max\": 1,\n        \"num_unique_values\": 2,\n        \"samples\": [\n          1,\n          0\n        ],\n        \"semantic_type\": \"\",\n        \"description\": \"\"\n      }\n    },\n    {\n      \"column\": \"view\",\n      \"properties\": {\n        \"dtype\": \"number\",\n        \"std\": 0,\n        \"min\": 0,\n        \"max\": 4,\n        \"num_unique_values\": 5,\n        \"samples\": [\n          4,\n          3\n        ],\n        \"semantic_type\": \"\",\n        \"description\": \"\"\n      }\n    },\n    {\n      \"column\": \"condition\",\n      \"properties\": {\n        \"dtype\": \"number\",\n        \"std\": 0,\n        \"min\": 1,\n        \"max\": 5,\n        \"num_unique_values\": 5,\n        \"samples\": [\n          5,\n          1\n        ],\n        \"semantic_type\": \"\",\n        \"description\": \"\"\n      }\n    },\n    {\n      \"column\": \"sqft_above\",\n      \"properties\": {\n        \"dtype\": \"number\",\n        \"std\": 862,\n        \"min\": 370,\n        \"max\": 9410,\n        \"num_unique_values\": 511,\n        \"samples\": [\n          2280,\n          2230\n        ],\n        \"semantic_type\": \"\",\n        \"description\": \"\"\n      }\n    },\n    {\n      \"column\": \"sqft_basement\",\n      \"properties\": {\n        \"dtype\": \"number\",\n        \"std\": 464,\n        \"min\": 0,\n        \"max\": 4820,\n        \"num_unique_values\": 207,\n        \"samples\": [\n          460,\n          310\n        ],\n        \"semantic_type\": \"\",\n        \"description\": \"\"\n      }\n    },\n    {\n      \"column\": \"yr_built\",\n      \"properties\": {\n        \"dtype\": \"number\",\n        \"std\": 29,\n        \"min\": 1900,\n        \"max\": 2014,\n        \"num_unique_values\": 115,\n        \"samples\": [\n          1926,\n          1976\n        ],\n        \"semantic_type\": \"\",\n        \"description\": \"\"\n      }\n    },\n    {\n      \"column\": \"yr_renovated\",\n      \"properties\": {\n        \"dtype\": \"number\",\n        \"std\": 979,\n        \"min\": 0,\n        \"max\": 2014,\n        \"num_unique_values\": 60,\n        \"samples\": [\n          2005,\n          1988\n        ],\n        \"semantic_type\": \"\",\n        \"description\": \"\"\n      }\n    },\n    {\n      \"column\": \"street\",\n      \"properties\": {\n        \"dtype\": \"string\",\n        \"num_unique_values\": 4525,\n        \"samples\": [\n          \"743 N 80th St\",\n          \"157 Pike St NE\"\n        ],\n        \"semantic_type\": \"\",\n        \"description\": \"\"\n      }\n    },\n    {\n      \"column\": \"city\",\n      \"properties\": {\n        \"dtype\": \"category\",\n        \"num_unique_values\": 44,\n        \"samples\": [\n          \"Medina\",\n          \"Inglewood-Finn Hill\"\n        ],\n        \"semantic_type\": \"\",\n        \"description\": \"\"\n      }\n    },\n    {\n      \"column\": \"statezip\",\n      \"properties\": {\n        \"dtype\": \"category\",\n        \"num_unique_values\": 77,\n        \"samples\": [\n          \"WA 98052\",\n          \"WA 98075\"\n        ],\n        \"semantic_type\": \"\",\n        \"description\": \"\"\n      }\n    },\n    {\n      \"column\": \"country\",\n      \"properties\": {\n        \"dtype\": \"category\",\n        \"num_unique_values\": 1,\n        \"samples\": [\n          \"USA\"\n        ],\n        \"semantic_type\": \"\",\n        \"description\": \"\"\n      }\n    }\n  ]\n}"
            }
          },
          "metadata": {},
          "execution_count": 5
        }
      ]
    },
    {
      "cell_type": "code",
      "source": [
        "print(f\"Dataset shape: {df.shape}\")"
      ],
      "metadata": {
        "colab": {
          "base_uri": "https://localhost:8080/"
        },
        "id": "MBcCqwN3LG1U",
        "outputId": "d23f6291-26d1-4b14-f8d1-682f6b3db575"
      },
      "execution_count": 6,
      "outputs": [
        {
          "output_type": "stream",
          "name": "stdout",
          "text": [
            "Dataset shape: (4600, 18)\n"
          ]
        }
      ]
    },
    {
      "cell_type": "code",
      "source": [
        "print(\"\\nData types:\")\n",
        "print(df.dtypes)"
      ],
      "metadata": {
        "colab": {
          "base_uri": "https://localhost:8080/"
        },
        "id": "RbdMTga3LMty",
        "outputId": "21fa2200-0a0f-4c85-fb6e-b9d38cb2cab6"
      },
      "execution_count": 7,
      "outputs": [
        {
          "output_type": "stream",
          "name": "stdout",
          "text": [
            "\n",
            "Data types:\n",
            "date              object\n",
            "price            float64\n",
            "bedrooms         float64\n",
            "bathrooms        float64\n",
            "sqft_living        int64\n",
            "sqft_lot           int64\n",
            "floors           float64\n",
            "waterfront         int64\n",
            "view               int64\n",
            "condition          int64\n",
            "sqft_above         int64\n",
            "sqft_basement      int64\n",
            "yr_built           int64\n",
            "yr_renovated       int64\n",
            "street            object\n",
            "city              object\n",
            "statezip          object\n",
            "country           object\n",
            "dtype: object\n"
          ]
        }
      ]
    },
    {
      "cell_type": "code",
      "source": [
        "print(\"\\nBasic statistics:\")\n",
        "df.describe().T"
      ],
      "metadata": {
        "colab": {
          "base_uri": "https://localhost:8080/",
          "height": 491
        },
        "id": "GI0ByTqZLN00",
        "outputId": "81311220-ae99-4b4d-c265-27ef1e326c9b"
      },
      "execution_count": 10,
      "outputs": [
        {
          "output_type": "stream",
          "name": "stdout",
          "text": [
            "\n",
            "Basic statistics:\n"
          ]
        },
        {
          "output_type": "execute_result",
          "data": {
            "text/plain": [
              "                count           mean            std     min        25%  \\\n",
              "price          4600.0  551962.988473  563834.702547     0.0  322875.00   \n",
              "bedrooms       4600.0       3.400870       0.908848     0.0       3.00   \n",
              "bathrooms      4600.0       2.160815       0.783781     0.0       1.75   \n",
              "sqft_living    4600.0    2139.346957     963.206916   370.0    1460.00   \n",
              "sqft_lot       4600.0   14852.516087   35884.436145   638.0    5000.75   \n",
              "floors         4600.0       1.512065       0.538288     1.0       1.00   \n",
              "waterfront     4600.0       0.007174       0.084404     0.0       0.00   \n",
              "view           4600.0       0.240652       0.778405     0.0       0.00   \n",
              "condition      4600.0       3.451739       0.677230     1.0       3.00   \n",
              "sqft_above     4600.0    1827.265435     862.168977   370.0    1190.00   \n",
              "sqft_basement  4600.0     312.081522     464.137228     0.0       0.00   \n",
              "yr_built       4600.0    1970.786304      29.731848  1900.0    1951.00   \n",
              "yr_renovated   4600.0     808.608261     979.414536     0.0       0.00   \n",
              "\n",
              "                         50%        75%         max  \n",
              "price          460943.461539  654962.50  26590000.0  \n",
              "bedrooms            3.000000       4.00         9.0  \n",
              "bathrooms           2.250000       2.50         8.0  \n",
              "sqft_living      1980.000000    2620.00     13540.0  \n",
              "sqft_lot         7683.000000   11001.25   1074218.0  \n",
              "floors              1.500000       2.00         3.5  \n",
              "waterfront          0.000000       0.00         1.0  \n",
              "view                0.000000       0.00         4.0  \n",
              "condition           3.000000       4.00         5.0  \n",
              "sqft_above       1590.000000    2300.00      9410.0  \n",
              "sqft_basement       0.000000     610.00      4820.0  \n",
              "yr_built         1976.000000    1997.00      2014.0  \n",
              "yr_renovated        0.000000    1999.00      2014.0  "
            ],
            "text/html": [
              "\n",
              "  <div id=\"df-a95e3948-840f-4b1a-bb80-4220c352b4a1\" class=\"colab-df-container\">\n",
              "    <div>\n",
              "<style scoped>\n",
              "    .dataframe tbody tr th:only-of-type {\n",
              "        vertical-align: middle;\n",
              "    }\n",
              "\n",
              "    .dataframe tbody tr th {\n",
              "        vertical-align: top;\n",
              "    }\n",
              "\n",
              "    .dataframe thead th {\n",
              "        text-align: right;\n",
              "    }\n",
              "</style>\n",
              "<table border=\"1\" class=\"dataframe\">\n",
              "  <thead>\n",
              "    <tr style=\"text-align: right;\">\n",
              "      <th></th>\n",
              "      <th>count</th>\n",
              "      <th>mean</th>\n",
              "      <th>std</th>\n",
              "      <th>min</th>\n",
              "      <th>25%</th>\n",
              "      <th>50%</th>\n",
              "      <th>75%</th>\n",
              "      <th>max</th>\n",
              "    </tr>\n",
              "  </thead>\n",
              "  <tbody>\n",
              "    <tr>\n",
              "      <th>price</th>\n",
              "      <td>4600.0</td>\n",
              "      <td>551962.988473</td>\n",
              "      <td>563834.702547</td>\n",
              "      <td>0.0</td>\n",
              "      <td>322875.00</td>\n",
              "      <td>460943.461539</td>\n",
              "      <td>654962.50</td>\n",
              "      <td>26590000.0</td>\n",
              "    </tr>\n",
              "    <tr>\n",
              "      <th>bedrooms</th>\n",
              "      <td>4600.0</td>\n",
              "      <td>3.400870</td>\n",
              "      <td>0.908848</td>\n",
              "      <td>0.0</td>\n",
              "      <td>3.00</td>\n",
              "      <td>3.000000</td>\n",
              "      <td>4.00</td>\n",
              "      <td>9.0</td>\n",
              "    </tr>\n",
              "    <tr>\n",
              "      <th>bathrooms</th>\n",
              "      <td>4600.0</td>\n",
              "      <td>2.160815</td>\n",
              "      <td>0.783781</td>\n",
              "      <td>0.0</td>\n",
              "      <td>1.75</td>\n",
              "      <td>2.250000</td>\n",
              "      <td>2.50</td>\n",
              "      <td>8.0</td>\n",
              "    </tr>\n",
              "    <tr>\n",
              "      <th>sqft_living</th>\n",
              "      <td>4600.0</td>\n",
              "      <td>2139.346957</td>\n",
              "      <td>963.206916</td>\n",
              "      <td>370.0</td>\n",
              "      <td>1460.00</td>\n",
              "      <td>1980.000000</td>\n",
              "      <td>2620.00</td>\n",
              "      <td>13540.0</td>\n",
              "    </tr>\n",
              "    <tr>\n",
              "      <th>sqft_lot</th>\n",
              "      <td>4600.0</td>\n",
              "      <td>14852.516087</td>\n",
              "      <td>35884.436145</td>\n",
              "      <td>638.0</td>\n",
              "      <td>5000.75</td>\n",
              "      <td>7683.000000</td>\n",
              "      <td>11001.25</td>\n",
              "      <td>1074218.0</td>\n",
              "    </tr>\n",
              "    <tr>\n",
              "      <th>floors</th>\n",
              "      <td>4600.0</td>\n",
              "      <td>1.512065</td>\n",
              "      <td>0.538288</td>\n",
              "      <td>1.0</td>\n",
              "      <td>1.00</td>\n",
              "      <td>1.500000</td>\n",
              "      <td>2.00</td>\n",
              "      <td>3.5</td>\n",
              "    </tr>\n",
              "    <tr>\n",
              "      <th>waterfront</th>\n",
              "      <td>4600.0</td>\n",
              "      <td>0.007174</td>\n",
              "      <td>0.084404</td>\n",
              "      <td>0.0</td>\n",
              "      <td>0.00</td>\n",
              "      <td>0.000000</td>\n",
              "      <td>0.00</td>\n",
              "      <td>1.0</td>\n",
              "    </tr>\n",
              "    <tr>\n",
              "      <th>view</th>\n",
              "      <td>4600.0</td>\n",
              "      <td>0.240652</td>\n",
              "      <td>0.778405</td>\n",
              "      <td>0.0</td>\n",
              "      <td>0.00</td>\n",
              "      <td>0.000000</td>\n",
              "      <td>0.00</td>\n",
              "      <td>4.0</td>\n",
              "    </tr>\n",
              "    <tr>\n",
              "      <th>condition</th>\n",
              "      <td>4600.0</td>\n",
              "      <td>3.451739</td>\n",
              "      <td>0.677230</td>\n",
              "      <td>1.0</td>\n",
              "      <td>3.00</td>\n",
              "      <td>3.000000</td>\n",
              "      <td>4.00</td>\n",
              "      <td>5.0</td>\n",
              "    </tr>\n",
              "    <tr>\n",
              "      <th>sqft_above</th>\n",
              "      <td>4600.0</td>\n",
              "      <td>1827.265435</td>\n",
              "      <td>862.168977</td>\n",
              "      <td>370.0</td>\n",
              "      <td>1190.00</td>\n",
              "      <td>1590.000000</td>\n",
              "      <td>2300.00</td>\n",
              "      <td>9410.0</td>\n",
              "    </tr>\n",
              "    <tr>\n",
              "      <th>sqft_basement</th>\n",
              "      <td>4600.0</td>\n",
              "      <td>312.081522</td>\n",
              "      <td>464.137228</td>\n",
              "      <td>0.0</td>\n",
              "      <td>0.00</td>\n",
              "      <td>0.000000</td>\n",
              "      <td>610.00</td>\n",
              "      <td>4820.0</td>\n",
              "    </tr>\n",
              "    <tr>\n",
              "      <th>yr_built</th>\n",
              "      <td>4600.0</td>\n",
              "      <td>1970.786304</td>\n",
              "      <td>29.731848</td>\n",
              "      <td>1900.0</td>\n",
              "      <td>1951.00</td>\n",
              "      <td>1976.000000</td>\n",
              "      <td>1997.00</td>\n",
              "      <td>2014.0</td>\n",
              "    </tr>\n",
              "    <tr>\n",
              "      <th>yr_renovated</th>\n",
              "      <td>4600.0</td>\n",
              "      <td>808.608261</td>\n",
              "      <td>979.414536</td>\n",
              "      <td>0.0</td>\n",
              "      <td>0.00</td>\n",
              "      <td>0.000000</td>\n",
              "      <td>1999.00</td>\n",
              "      <td>2014.0</td>\n",
              "    </tr>\n",
              "  </tbody>\n",
              "</table>\n",
              "</div>\n",
              "    <div class=\"colab-df-buttons\">\n",
              "\n",
              "  <div class=\"colab-df-container\">\n",
              "    <button class=\"colab-df-convert\" onclick=\"convertToInteractive('df-a95e3948-840f-4b1a-bb80-4220c352b4a1')\"\n",
              "            title=\"Convert this dataframe to an interactive table.\"\n",
              "            style=\"display:none;\">\n",
              "\n",
              "  <svg xmlns=\"http://www.w3.org/2000/svg\" height=\"24px\" viewBox=\"0 -960 960 960\">\n",
              "    <path d=\"M120-120v-720h720v720H120Zm60-500h600v-160H180v160Zm220 220h160v-160H400v160Zm0 220h160v-160H400v160ZM180-400h160v-160H180v160Zm440 0h160v-160H620v160ZM180-180h160v-160H180v160Zm440 0h160v-160H620v160Z\"/>\n",
              "  </svg>\n",
              "    </button>\n",
              "\n",
              "  <style>\n",
              "    .colab-df-container {\n",
              "      display:flex;\n",
              "      gap: 12px;\n",
              "    }\n",
              "\n",
              "    .colab-df-convert {\n",
              "      background-color: #E8F0FE;\n",
              "      border: none;\n",
              "      border-radius: 50%;\n",
              "      cursor: pointer;\n",
              "      display: none;\n",
              "      fill: #1967D2;\n",
              "      height: 32px;\n",
              "      padding: 0 0 0 0;\n",
              "      width: 32px;\n",
              "    }\n",
              "\n",
              "    .colab-df-convert:hover {\n",
              "      background-color: #E2EBFA;\n",
              "      box-shadow: 0px 1px 2px rgba(60, 64, 67, 0.3), 0px 1px 3px 1px rgba(60, 64, 67, 0.15);\n",
              "      fill: #174EA6;\n",
              "    }\n",
              "\n",
              "    .colab-df-buttons div {\n",
              "      margin-bottom: 4px;\n",
              "    }\n",
              "\n",
              "    [theme=dark] .colab-df-convert {\n",
              "      background-color: #3B4455;\n",
              "      fill: #D2E3FC;\n",
              "    }\n",
              "\n",
              "    [theme=dark] .colab-df-convert:hover {\n",
              "      background-color: #434B5C;\n",
              "      box-shadow: 0px 1px 3px 1px rgba(0, 0, 0, 0.15);\n",
              "      filter: drop-shadow(0px 1px 2px rgba(0, 0, 0, 0.3));\n",
              "      fill: #FFFFFF;\n",
              "    }\n",
              "  </style>\n",
              "\n",
              "    <script>\n",
              "      const buttonEl =\n",
              "        document.querySelector('#df-a95e3948-840f-4b1a-bb80-4220c352b4a1 button.colab-df-convert');\n",
              "      buttonEl.style.display =\n",
              "        google.colab.kernel.accessAllowed ? 'block' : 'none';\n",
              "\n",
              "      async function convertToInteractive(key) {\n",
              "        const element = document.querySelector('#df-a95e3948-840f-4b1a-bb80-4220c352b4a1');\n",
              "        const dataTable =\n",
              "          await google.colab.kernel.invokeFunction('convertToInteractive',\n",
              "                                                    [key], {});\n",
              "        if (!dataTable) return;\n",
              "\n",
              "        const docLinkHtml = 'Like what you see? Visit the ' +\n",
              "          '<a target=\"_blank\" href=https://colab.research.google.com/notebooks/data_table.ipynb>data table notebook</a>'\n",
              "          + ' to learn more about interactive tables.';\n",
              "        element.innerHTML = '';\n",
              "        dataTable['output_type'] = 'display_data';\n",
              "        await google.colab.output.renderOutput(dataTable, element);\n",
              "        const docLink = document.createElement('div');\n",
              "        docLink.innerHTML = docLinkHtml;\n",
              "        element.appendChild(docLink);\n",
              "      }\n",
              "    </script>\n",
              "  </div>\n",
              "\n",
              "\n",
              "    <div id=\"df-96143e27-dde7-4f63-9bf7-270f1f4e3b4f\">\n",
              "      <button class=\"colab-df-quickchart\" onclick=\"quickchart('df-96143e27-dde7-4f63-9bf7-270f1f4e3b4f')\"\n",
              "                title=\"Suggest charts\"\n",
              "                style=\"display:none;\">\n",
              "\n",
              "<svg xmlns=\"http://www.w3.org/2000/svg\" height=\"24px\"viewBox=\"0 0 24 24\"\n",
              "     width=\"24px\">\n",
              "    <g>\n",
              "        <path d=\"M19 3H5c-1.1 0-2 .9-2 2v14c0 1.1.9 2 2 2h14c1.1 0 2-.9 2-2V5c0-1.1-.9-2-2-2zM9 17H7v-7h2v7zm4 0h-2V7h2v10zm4 0h-2v-4h2v4z\"/>\n",
              "    </g>\n",
              "</svg>\n",
              "      </button>\n",
              "\n",
              "<style>\n",
              "  .colab-df-quickchart {\n",
              "      --bg-color: #E8F0FE;\n",
              "      --fill-color: #1967D2;\n",
              "      --hover-bg-color: #E2EBFA;\n",
              "      --hover-fill-color: #174EA6;\n",
              "      --disabled-fill-color: #AAA;\n",
              "      --disabled-bg-color: #DDD;\n",
              "  }\n",
              "\n",
              "  [theme=dark] .colab-df-quickchart {\n",
              "      --bg-color: #3B4455;\n",
              "      --fill-color: #D2E3FC;\n",
              "      --hover-bg-color: #434B5C;\n",
              "      --hover-fill-color: #FFFFFF;\n",
              "      --disabled-bg-color: #3B4455;\n",
              "      --disabled-fill-color: #666;\n",
              "  }\n",
              "\n",
              "  .colab-df-quickchart {\n",
              "    background-color: var(--bg-color);\n",
              "    border: none;\n",
              "    border-radius: 50%;\n",
              "    cursor: pointer;\n",
              "    display: none;\n",
              "    fill: var(--fill-color);\n",
              "    height: 32px;\n",
              "    padding: 0;\n",
              "    width: 32px;\n",
              "  }\n",
              "\n",
              "  .colab-df-quickchart:hover {\n",
              "    background-color: var(--hover-bg-color);\n",
              "    box-shadow: 0 1px 2px rgba(60, 64, 67, 0.3), 0 1px 3px 1px rgba(60, 64, 67, 0.15);\n",
              "    fill: var(--button-hover-fill-color);\n",
              "  }\n",
              "\n",
              "  .colab-df-quickchart-complete:disabled,\n",
              "  .colab-df-quickchart-complete:disabled:hover {\n",
              "    background-color: var(--disabled-bg-color);\n",
              "    fill: var(--disabled-fill-color);\n",
              "    box-shadow: none;\n",
              "  }\n",
              "\n",
              "  .colab-df-spinner {\n",
              "    border: 2px solid var(--fill-color);\n",
              "    border-color: transparent;\n",
              "    border-bottom-color: var(--fill-color);\n",
              "    animation:\n",
              "      spin 1s steps(1) infinite;\n",
              "  }\n",
              "\n",
              "  @keyframes spin {\n",
              "    0% {\n",
              "      border-color: transparent;\n",
              "      border-bottom-color: var(--fill-color);\n",
              "      border-left-color: var(--fill-color);\n",
              "    }\n",
              "    20% {\n",
              "      border-color: transparent;\n",
              "      border-left-color: var(--fill-color);\n",
              "      border-top-color: var(--fill-color);\n",
              "    }\n",
              "    30% {\n",
              "      border-color: transparent;\n",
              "      border-left-color: var(--fill-color);\n",
              "      border-top-color: var(--fill-color);\n",
              "      border-right-color: var(--fill-color);\n",
              "    }\n",
              "    40% {\n",
              "      border-color: transparent;\n",
              "      border-right-color: var(--fill-color);\n",
              "      border-top-color: var(--fill-color);\n",
              "    }\n",
              "    60% {\n",
              "      border-color: transparent;\n",
              "      border-right-color: var(--fill-color);\n",
              "    }\n",
              "    80% {\n",
              "      border-color: transparent;\n",
              "      border-right-color: var(--fill-color);\n",
              "      border-bottom-color: var(--fill-color);\n",
              "    }\n",
              "    90% {\n",
              "      border-color: transparent;\n",
              "      border-bottom-color: var(--fill-color);\n",
              "    }\n",
              "  }\n",
              "</style>\n",
              "\n",
              "      <script>\n",
              "        async function quickchart(key) {\n",
              "          const quickchartButtonEl =\n",
              "            document.querySelector('#' + key + ' button');\n",
              "          quickchartButtonEl.disabled = true;  // To prevent multiple clicks.\n",
              "          quickchartButtonEl.classList.add('colab-df-spinner');\n",
              "          try {\n",
              "            const charts = await google.colab.kernel.invokeFunction(\n",
              "                'suggestCharts', [key], {});\n",
              "          } catch (error) {\n",
              "            console.error('Error during call to suggestCharts:', error);\n",
              "          }\n",
              "          quickchartButtonEl.classList.remove('colab-df-spinner');\n",
              "          quickchartButtonEl.classList.add('colab-df-quickchart-complete');\n",
              "        }\n",
              "        (() => {\n",
              "          let quickchartButtonEl =\n",
              "            document.querySelector('#df-96143e27-dde7-4f63-9bf7-270f1f4e3b4f button');\n",
              "          quickchartButtonEl.style.display =\n",
              "            google.colab.kernel.accessAllowed ? 'block' : 'none';\n",
              "        })();\n",
              "      </script>\n",
              "    </div>\n",
              "\n",
              "    </div>\n",
              "  </div>\n"
            ],
            "application/vnd.google.colaboratory.intrinsic+json": {
              "type": "dataframe",
              "summary": "{\n  \"name\": \"df\",\n  \"rows\": 13,\n  \"fields\": [\n    {\n      \"column\": \"count\",\n      \"properties\": {\n        \"dtype\": \"number\",\n        \"std\": 0.0,\n        \"min\": 4600.0,\n        \"max\": 4600.0,\n        \"num_unique_values\": 1,\n        \"samples\": [\n          4600.0\n        ],\n        \"semantic_type\": \"\",\n        \"description\": \"\"\n      }\n    },\n    {\n      \"column\": \"mean\",\n      \"properties\": {\n        \"dtype\": \"number\",\n        \"std\": 152633.05438035497,\n        \"min\": 0.007173913043478261,\n        \"max\": 551962.9884732141,\n        \"num_unique_values\": 13,\n        \"samples\": [\n          1970.786304347826\n        ],\n        \"semantic_type\": \"\",\n        \"description\": \"\"\n      }\n    },\n    {\n      \"column\": \"std\",\n      \"properties\": {\n        \"dtype\": \"number\",\n        \"std\": 155785.15845903294,\n        \"min\": 0.08440377189474405,\n        \"max\": 563834.7025471417,\n        \"num_unique_values\": 13,\n        \"samples\": [\n          29.731848390099724\n        ],\n        \"semantic_type\": \"\",\n        \"description\": \"\"\n      }\n    },\n    {\n      \"column\": \"min\",\n      \"properties\": {\n        \"dtype\": \"number\",\n        \"std\": 537.2209949693863,\n        \"min\": 0.0,\n        \"max\": 1900.0,\n        \"num_unique_values\": 5,\n        \"samples\": [\n          370.0\n        ],\n        \"semantic_type\": \"\",\n        \"description\": \"\"\n      }\n    },\n    {\n      \"column\": \"25%\",\n      \"properties\": {\n        \"dtype\": \"number\",\n        \"std\": 89338.79431698202,\n        \"min\": 0.0,\n        \"max\": 322875.0,\n        \"num_unique_values\": 9,\n        \"samples\": [\n          1190.0\n        ],\n        \"semantic_type\": \"\",\n        \"description\": \"\"\n      }\n    },\n    {\n      \"column\": \"50%\",\n      \"properties\": {\n        \"dtype\": \"number\",\n        \"std\": 127554.62787719395,\n        \"min\": 0.0,\n        \"max\": 460943.46153850004,\n        \"num_unique_values\": 9,\n        \"samples\": [\n          1590.0\n        ],\n        \"semantic_type\": \"\",\n        \"description\": \"\"\n      }\n    },\n    {\n      \"column\": \"75%\",\n      \"properties\": {\n        \"dtype\": \"number\",\n        \"std\": 181203.6518676295,\n        \"min\": 0.0,\n        \"max\": 654962.5,\n        \"num_unique_values\": 11,\n        \"samples\": [\n          2.0\n        ],\n        \"semantic_type\": \"\",\n        \"description\": \"\"\n      }\n    },\n    {\n      \"column\": \"max\",\n      \"properties\": {\n        \"dtype\": \"number\",\n        \"std\": 7355139.283940034,\n        \"min\": 1.0,\n        \"max\": 26590000.0,\n        \"num_unique_values\": 12,\n        \"samples\": [\n          4820.0\n        ],\n        \"semantic_type\": \"\",\n        \"description\": \"\"\n      }\n    }\n  ]\n}"
            }
          },
          "metadata": {},
          "execution_count": 10
        }
      ]
    },
    {
      "cell_type": "code",
      "source": [
        "# Check for duplicate rows\n",
        "duplicates = df.duplicated().sum()\n",
        "print(f\"Duplicate rows: {duplicates}\")"
      ],
      "metadata": {
        "colab": {
          "base_uri": "https://localhost:8080/"
        },
        "id": "42OWoY39Lc-C",
        "outputId": "97de5294-d5bf-4a2a-efca-981956c1b021"
      },
      "execution_count": 11,
      "outputs": [
        {
          "output_type": "stream",
          "name": "stdout",
          "text": [
            "Duplicate rows: 0\n"
          ]
        }
      ]
    },
    {
      "cell_type": "code",
      "source": [
        "# Check for zero/negative prices\n",
        "if 'price' in df.columns:\n",
        "    invalid_prices = df[df['price'] <= 0].shape[0]\n",
        "    print(f\"Invalid prices (≤0): {invalid_prices}\")"
      ],
      "metadata": {
        "colab": {
          "base_uri": "https://localhost:8080/"
        },
        "id": "1H8y8UGOLi_1",
        "outputId": "49e2dba3-2b3a-40cb-85f1-e067605a2315"
      },
      "execution_count": 12,
      "outputs": [
        {
          "output_type": "stream",
          "name": "stdout",
          "text": [
            "Invalid prices (≤0): 49\n"
          ]
        }
      ]
    },
    {
      "cell_type": "code",
      "source": [
        "# Check for unrealistic values\n",
        "if 'bedrooms' in df.columns:\n",
        "    high_bedrooms = df[df['bedrooms'] > 10].shape[0]\n",
        "    print(f\"Properties with >10 bedrooms: {high_bedrooms}\")"
      ],
      "metadata": {
        "colab": {
          "base_uri": "https://localhost:8080/"
        },
        "id": "3y_nMvQKLmlk",
        "outputId": "8c95073c-0202-41c8-86ba-4925e8f40e33"
      },
      "execution_count": 13,
      "outputs": [
        {
          "output_type": "stream",
          "name": "stdout",
          "text": [
            "Properties with >10 bedrooms: 0\n"
          ]
        }
      ]
    },
    {
      "cell_type": "code",
      "source": [
        "if 'bathrooms' in df.columns:\n",
        "    high_bathrooms = df[df['bathrooms'] > 8].shape[0]\n",
        "    print(f\"Properties with >8 bathrooms: {high_bathrooms}\")"
      ],
      "metadata": {
        "colab": {
          "base_uri": "https://localhost:8080/"
        },
        "id": "V_RH8JdNLvQD",
        "outputId": "6d097b29-d138-4c85-8486-bf271b8df0a2"
      },
      "execution_count": 14,
      "outputs": [
        {
          "output_type": "stream",
          "name": "stdout",
          "text": [
            "Properties with >8 bathrooms: 0\n"
          ]
        }
      ]
    },
    {
      "cell_type": "markdown",
      "source": [
        "# 3 - Data Cleaning"
      ],
      "metadata": {
        "id": "G17C8e07L6c2"
      }
    },
    {
      "cell_type": "code",
      "source": [
        "# Create a copy for cleaning\n",
        "df_clean = df.copy()"
      ],
      "metadata": {
        "id": "1St4brSNL0ot"
      },
      "execution_count": 15,
      "outputs": []
    },
    {
      "cell_type": "code",
      "source": [
        "# Remove invalid prices\n",
        "if 'price' in df_clean.columns:\n",
        "    initial_count = len(df_clean)\n",
        "    df_clean = df_clean[df_clean['price'] > 0]\n",
        "    removed = initial_count - len(df_clean)\n",
        "    if removed > 0:\n",
        "        print(f\"✓ Removed {removed} rows with invalid prices\")"
      ],
      "metadata": {
        "colab": {
          "base_uri": "https://localhost:8080/"
        },
        "id": "UXsu4eUFMGfs",
        "outputId": "ba83854a-2e27-4bfd-dd97-c3fbf285f982"
      },
      "execution_count": 16,
      "outputs": [
        {
          "output_type": "stream",
          "name": "stdout",
          "text": [
            "✓ Removed 49 rows with invalid prices\n"
          ]
        }
      ]
    },
    {
      "cell_type": "code",
      "source": [
        "# Handle extreme outliers\n",
        "# Remove only the most extreme outliers (beyond 3 standard deviations)\n",
        "for col in ['price', 'sqft_living', 'sqft_lot']:\n",
        "    if col in df_clean.columns:\n",
        "        z_scores = np.abs(stats.zscore(df_clean[col]))\n",
        "        initial_count = len(df_clean)\n",
        "        df_clean = df_clean[z_scores < 3]\n",
        "        removed = initial_count - len(df_clean)\n",
        "        if removed > 0:\n",
        "            print(f\"✓ Removed {removed} extreme outliers from {col}\")"
      ],
      "metadata": {
        "colab": {
          "base_uri": "https://localhost:8080/"
        },
        "id": "Z9kAOuI3MR6X",
        "outputId": "20c6f015-cbe3-409b-da24-a3619eaeea5b"
      },
      "execution_count": 17,
      "outputs": [
        {
          "output_type": "stream",
          "name": "stdout",
          "text": [
            "✓ Removed 34 extreme outliers from price\n",
            "✓ Removed 44 extreme outliers from sqft_living\n",
            "✓ Removed 70 extreme outliers from sqft_lot\n"
          ]
        }
      ]
    },
    {
      "cell_type": "code",
      "source": [
        "# Convert data types\n",
        "if 'date' in df_clean.columns:\n",
        "    df_clean['date'] = pd.to_datetime(df_clean['date'])"
      ],
      "metadata": {
        "id": "YRfn5FAqMdcX"
      },
      "execution_count": 18,
      "outputs": []
    },
    {
      "cell_type": "code",
      "source": [
        "# Fill missing values intelligently\n",
        "for col in ['yr_renovated']:\n",
        "    if col in df_clean.columns:\n",
        "        df_clean[col] = df_clean[col].fillna(0)"
      ],
      "metadata": {
        "id": "KzWhVlJVMtKd"
      },
      "execution_count": 19,
      "outputs": []
    },
    {
      "cell_type": "code",
      "source": [
        "print(f\"Final dataset shape after cleaning: {df_clean.shape}\")"
      ],
      "metadata": {
        "colab": {
          "base_uri": "https://localhost:8080/"
        },
        "id": "OrwOJZ6pM0Ts",
        "outputId": "39f7e7ec-869a-4d7a-9186-40913fb6a7b9"
      },
      "execution_count": 20,
      "outputs": [
        {
          "output_type": "stream",
          "name": "stdout",
          "text": [
            "Final dataset shape after cleaning: (4403, 18)\n"
          ]
        }
      ]
    },
    {
      "cell_type": "markdown",
      "source": [
        "# 4 - Feature Engineering"
      ],
      "metadata": {
        "id": "rkGqbB2tM4Iy"
      }
    },
    {
      "cell_type": "code",
      "source": [
        "current_year = datetime.now().year"
      ],
      "metadata": {
        "id": "PEhGUP5-NFss"
      },
      "execution_count": 21,
      "outputs": []
    },
    {
      "cell_type": "code",
      "source": [
        "# Basic engineered features\n",
        "if 'yr_built' in df_clean.columns:\n",
        "    df_clean['house_age'] = current_year - df_clean['yr_built']\n",
        "    df_clean['age_squared'] = df_clean['house_age'] ** 2  # Non-linear age effect"
      ],
      "metadata": {
        "id": "rZccCz9fNL4D"
      },
      "execution_count": 22,
      "outputs": []
    },
    {
      "cell_type": "code",
      "source": [
        "if 'yr_renovated' in df_clean.columns:\n",
        "    df_clean['is_renovated'] = (df_clean['yr_renovated'] > 0).astype(int)\n",
        "    df_clean['years_since_renovation'] = np.where(\n",
        "        df_clean['yr_renovated'] == 0,\n",
        "        df_clean['house_age'],\n",
        "        current_year - df_clean['yr_renovated']\n",
        "    )"
      ],
      "metadata": {
        "id": "FTy2jH2qNOdj"
      },
      "execution_count": 23,
      "outputs": []
    },
    {
      "cell_type": "code",
      "source": [
        "# Size and ratio features\n",
        "if all(col in df_clean.columns for col in ['price', 'sqft_living']):\n",
        "    df_clean['price_per_sqft'] = df_clean['price'] / df_clean['sqft_living']\n",
        "\n",
        "if all(col in df_clean.columns for col in ['sqft_living', 'sqft_lot']):\n",
        "    df_clean['living_to_lot_ratio'] = df_clean['sqft_living'] / df_clean['sqft_lot']\n",
        "    df_clean['total_sqft'] = df_clean['sqft_living'] + df_clean.get('sqft_basement', 0)"
      ],
      "metadata": {
        "id": "zEjvElB9NaIL"
      },
      "execution_count": 24,
      "outputs": []
    },
    {
      "cell_type": "code",
      "source": [
        "# Interaction features (important for capturing complex relationships)\n",
        "if all(col in df_clean.columns for col in ['bedrooms', 'bathrooms']):\n",
        "    df_clean['bed_bath_ratio'] = df_clean['bedrooms'] / (df_clean['bathrooms'] + 0.1)  # Avoid division by zero\n",
        "    df_clean['total_rooms'] = df_clean['bedrooms'] + df_clean['bathrooms']\n",
        "\n",
        "if all(col in df_clean.columns for col in ['sqft_living', 'bedrooms']):\n",
        "    df_clean['sqft_per_bedroom'] = df_clean['sqft_living'] / (df_clean['bedrooms'] + 0.1)"
      ],
      "metadata": {
        "id": "-7V9meulNjUC"
      },
      "execution_count": 25,
      "outputs": []
    },
    {
      "cell_type": "code",
      "source": [
        "# Quality score combination\n",
        "quality_features = ['view', 'condition']\n",
        "available_quality = [col for col in quality_features if col in df_clean.columns]\n",
        "if len(available_quality) >= 2:\n",
        "    df_clean['quality_score'] = df_clean[available_quality].sum(axis=1)"
      ],
      "metadata": {
        "id": "u8YPLNsANkm7"
      },
      "execution_count": 26,
      "outputs": []
    },
    {
      "cell_type": "code",
      "source": [
        "# Location-based features\n",
        "if 'city' in df_clean.columns:\n",
        "    # Create city dummy variables (one-hot encoding)\n",
        "    city_dummies = pd.get_dummies(df_clean['city'], prefix='city')\n",
        "    df_clean = pd.concat([df_clean, city_dummies], axis=1)\n",
        "\n",
        "    # City-based statistics\n",
        "    city_stats = df_clean.groupby('city')['price'].agg(['mean', 'std', 'count']).reset_index()\n",
        "    city_stats.columns = ['city', 'city_avg_price', 'city_price_std', 'city_count']\n",
        "    df_clean = df_clean.merge(city_stats, on='city', how='left')"
      ],
      "metadata": {
        "id": "cwSSVv9GNoI5"
      },
      "execution_count": 27,
      "outputs": []
    },
    {
      "cell_type": "code",
      "source": [
        "# Time-based features\n",
        "if 'date' in df_clean.columns:\n",
        "    df_clean['sale_month'] = df_clean['date'].dt.month\n",
        "    df_clean['sale_year'] = df_clean['date'].dt.year\n",
        "    df_clean['sale_quarter'] = df_clean['date'].dt.quarter\n",
        "    df_clean['is_summer'] = df_clean['sale_month'].isin([6, 7, 8]).astype(int)"
      ],
      "metadata": {
        "id": "UbQRa0JkN1i4"
      },
      "execution_count": 28,
      "outputs": []
    },
    {
      "cell_type": "code",
      "source": [
        "# Log transformations for skewed features\n",
        "skewed_features = ['sqft_living', 'sqft_lot', 'sqft_above']\n",
        "for feature in skewed_features:\n",
        "    if feature in df_clean.columns and df_clean[feature].min() > 0:\n",
        "        df_clean[f'log_{feature}'] = np.log1p(df_clean[feature])"
      ],
      "metadata": {
        "id": "ZS9iSrFMN5xv"
      },
      "execution_count": 29,
      "outputs": []
    },
    {
      "cell_type": "code",
      "source": [
        "print(f\"Dataset shape after feature engineering: {df_clean.shape}\")"
      ],
      "metadata": {
        "colab": {
          "base_uri": "https://localhost:8080/"
        },
        "id": "plPt5g-DOUGU",
        "outputId": "92badeaf-1256-42ca-ace0-b8e741c356a9"
      },
      "execution_count": 30,
      "outputs": [
        {
          "output_type": "stream",
          "name": "stdout",
          "text": [
            "Dataset shape after feature engineering: (4403, 83)\n"
          ]
        }
      ]
    },
    {
      "cell_type": "markdown",
      "source": [
        "# 5 - Target Variable Analysis and Transformation"
      ],
      "metadata": {
        "id": "JNRXKb-wOd2I"
      }
    },
    {
      "cell_type": "code",
      "source": [
        "# Analyze price distribution\n",
        "plt.figure(figsize=(15, 5))\n",
        "\n",
        "plt.subplot(1, 3, 1)\n",
        "plt.hist(df_clean['price'], bins=50, alpha=0.7, edgecolor='black')\n",
        "plt.title('Original Price Distribution')\n",
        "plt.xlabel('Price')\n",
        "\n",
        "# Apply log transformation to price\n",
        "df_clean['log_price'] = np.log(df_clean['price'])\n",
        "\n",
        "plt.subplot(1, 3, 2)\n",
        "plt.hist(df_clean['log_price'], bins=50, alpha=0.7, edgecolor='black')\n",
        "plt.title('Log-Transformed Price Distribution')\n",
        "plt.xlabel('Log(Price)')\n",
        "\n",
        "# Check normality\n",
        "plt.subplot(1, 3, 3)\n",
        "stats.probplot(df_clean['log_price'], dist=\"norm\", plot=plt)\n",
        "plt.title('Q-Q Plot: Log(Price)')\n",
        "\n",
        "plt.tight_layout()\n",
        "plt.show()\n",
        "\n",
        "# Print transformation results\n",
        "print(f\"Original price skewness: {df_clean['price'].skew():.4f}\")\n",
        "print(f\"Log price skewness: {df_clean['log_price'].skew():.4f}\")"
      ],
      "metadata": {
        "colab": {
          "base_uri": "https://localhost:8080/",
          "height": 432
        },
        "id": "GqQqheMOPB0V",
        "outputId": "669e96a3-c964-4d99-d0fa-50b15144e38f"
      },
      "execution_count": 31,
      "outputs": [
        {
          "output_type": "display_data",
          "data": {
            "text/plain": [
              "<Figure size 1500x500 with 3 Axes>"
            ],
            "image/png": "[encoded data removed]"
          },
          "metadata": {}
        },
        {
          "output_type": "stream",
          "name": "stdout",
          "text": [
            "Original price skewness: 1.8240\n",
            "Log price skewness: -0.0246\n"
          ]
        }
      ]
    },
    {
      "cell_type": "markdown",
      "source": [
        "# 6 - Feature Selection"
      ],
      "metadata": {
        "id": "lzXP2BspPaS6"
      }
    },
    {
      "cell_type": "code",
      "source": [
        "# Prepare features for modeling\n",
        "exclude_columns = ['price', 'log_price', 'date', 'street', 'city', 'statezip', 'country']\n",
        "potential_features = [col for col in df_clean.columns if col not in exclude_columns]"
      ],
      "metadata": {
        "id": "FT2W7NnePplK"
      },
      "execution_count": 32,
      "outputs": []
    },
    {
      "cell_type": "code",
      "source": [
        "# Remove features with too many missing values or low variance\n",
        "final_features = []\n",
        "for col in potential_features:\n",
        "    if df_clean[col].dtype in ['int64', 'float64', 'int8', 'int16', 'float32']:\n",
        "        # Check for sufficient variance\n",
        "        if df_clean[col].var() > 1e-6:\n",
        "            final_features.append(col)"
      ],
      "metadata": {
        "id": "Q2DVz6XuP2Um"
      },
      "execution_count": 34,
      "outputs": []
    },
    {
      "cell_type": "code",
      "source": [
        "print(f\"Selected {len(final_features)} features for modeling\")"
      ],
      "metadata": {
        "colab": {
          "base_uri": "https://localhost:8080/"
        },
        "id": "JPFQjD9BP6nn",
        "outputId": "1368769a-7314-412d-e0fd-2674fa07bec4"
      },
      "execution_count": 35,
      "outputs": [
        {
          "output_type": "stream",
          "name": "stdout",
          "text": [
            "Selected 30 features for modeling\n"
          ]
        }
      ]
    },
    {
      "cell_type": "code",
      "source": [
        "# Handle any remaining missing values\n",
        "X = df_clean[final_features].fillna(df_clean[final_features].median())\n",
        "y = df_clean['log_price']  # Use log-transformed target"
      ],
      "metadata": {
        "id": "sTJX90TlP__E"
      },
      "execution_count": 36,
      "outputs": []
    },
    {
      "cell_type": "code",
      "source": [
        "# Use SelectKBest to find most relevant features\n",
        "selector = SelectKBest(score_func=f_regression, k=min(50, len(final_features)))\n",
        "X_selected = selector.fit_transform(X, y)\n",
        "selected_features = [final_features[i] for i in selector.get_support(indices=True)]\n",
        "\n",
        "print(f\"Top {len(selected_features)} most relevant features selected\")\n",
        "print(\"Selected features:\", selected_features)"
      ],
      "metadata": {
        "colab": {
          "base_uri": "https://localhost:8080/"
        },
        "id": "cH29uer2QGLy",
        "outputId": "3026b260-7722-4462-b82d-7f3d7cd2dc8a"
      },
      "execution_count": 39,
      "outputs": [
        {
          "output_type": "stream",
          "name": "stdout",
          "text": [
            "Top 30 most relevant features selected\n",
            "Selected features: ['bedrooms', 'bathrooms', 'sqft_living', 'sqft_lot', 'floors', 'waterfront', 'view', 'condition', 'sqft_above', 'sqft_basement', 'yr_built', 'yr_renovated', 'house_age', 'age_squared', 'is_renovated', 'years_since_renovation', 'price_per_sqft', 'living_to_lot_ratio', 'total_sqft', 'bed_bath_ratio', 'total_rooms', 'sqft_per_bedroom', 'quality_score', 'city_avg_price', 'city_price_std', 'city_count', 'is_summer', 'log_sqft_living', 'log_sqft_lot', 'log_sqft_above']\n"
          ]
        }
      ]
    },
    {
      "cell_type": "markdown",
      "source": [
        "# 7 - Models Training and Evaluation"
      ],
      "metadata": {
        "id": "VUV4-84aQ1pg"
      }
    },
    {
      "cell_type": "code",
      "source": [
        "# Split the data\n",
        "X_train, X_test, y_train, y_test = train_test_split(\n",
        "    X_selected, y, test_size=0.2, random_state=42\n",
        ")\n",
        "\n",
        "print(f\"Training set size: {X_train.shape}\")\n",
        "print(f\"Test set size: {X_test.shape}\")"
      ],
      "metadata": {
        "colab": {
          "base_uri": "https://localhost:8080/"
        },
        "id": "ZoOAsBVlRFEI",
        "outputId": "996bbe02-5243-432a-f0fb-86d57716a285"
      },
      "execution_count": 40,
      "outputs": [
        {
          "output_type": "stream",
          "name": "stdout",
          "text": [
            "Training set size: (3522, 30)\n",
            "Test set size: (881, 30)\n"
          ]
        }
      ]
    },
    {
      "cell_type": "code",
      "source": [
        "# Use RobustScaler\n",
        "scaler = RobustScaler()\n",
        "X_train_scaled = scaler.fit_transform(X_train)\n",
        "X_test_scaled = scaler.transform(X_test)"
      ],
      "metadata": {
        "id": "yZRobKLuRHle"
      },
      "execution_count": 41,
      "outputs": []
    },
    {
      "cell_type": "code",
      "source": [
        "# Models dictionary with parameters\n",
        "models = {\n",
        "    'Ridge Regression': Ridge(alpha=1.0),\n",
        "    'Lasso Regression': Lasso(alpha=0.1),\n",
        "    'Random Forest': RandomForestRegressor(\n",
        "        n_estimators=200,\n",
        "        max_depth=15,\n",
        "        min_samples_split=5,\n",
        "        min_samples_leaf=2,\n",
        "        random_state=42,\n",
        "        n_jobs=-1\n",
        "    ),\n",
        "    'Extra Trees': ExtraTreesRegressor(\n",
        "        n_estimators=200,\n",
        "        max_depth=15,\n",
        "        min_samples_split=5,\n",
        "        min_samples_leaf=2,\n",
        "        random_state=42,\n",
        "        n_jobs=-1\n",
        "    ),\n",
        "    'Gradient Boosting': GradientBoostingRegressor(\n",
        "        n_estimators=200,\n",
        "        learning_rate=0.1,\n",
        "        max_depth=6,\n",
        "        min_samples_split=5,\n",
        "        min_samples_leaf=2,\n",
        "        random_state=42\n",
        "    )\n",
        "}"
      ],
      "metadata": {
        "id": "yBUMI0CoROly"
      },
      "execution_count": 42,
      "outputs": []
    },
    {
      "cell_type": "code",
      "source": [
        "# Store results\n",
        "model_results = {}"
      ],
      "metadata": {
        "id": "23jd4siZRhHc"
      },
      "execution_count": 43,
      "outputs": []
    },
    {
      "cell_type": "code",
      "source": [
        "# Train and evaluate each model\n",
        "for name, model in models.items():\n",
        "    print(f\"\\nTraining {name}...\")\n",
        "\n",
        "    # Use scaled data for linear models, original data for tree-based models\n",
        "    if 'Regression' in name and 'Forest' not in name and 'Trees' not in name:\n",
        "        # Cross-validation\n",
        "        cv_scores = cross_val_score(model, X_train_scaled, y_train, cv=5, scoring='r2')\n",
        "        model.fit(X_train_scaled, y_train)\n",
        "        y_pred = model.predict(X_test_scaled)\n",
        "    else:\n",
        "        # Cross-validation\n",
        "        cv_scores = cross_val_score(model, X_train, y_train, cv=5, scoring='r2')\n",
        "        model.fit(X_train, y_train)\n",
        "        y_pred = model.predict(X_test)\n",
        "\n",
        "    # Transform predictions back to original price scale\n",
        "    y_pred_original = np.exp(y_pred)\n",
        "    y_test_original = np.exp(y_test)\n",
        "\n",
        "    # Calculate metrics on original scale\n",
        "    mse = mean_squared_error(y_test_original, y_pred_original)\n",
        "    rmse = np.sqrt(mse)\n",
        "    mae = mean_absolute_error(y_test_original, y_pred_original)\n",
        "    r2 = r2_score(y_test_original, y_pred_original)\n",
        "\n",
        "    # Calculate metrics on log scale too\n",
        "    r2_log = r2_score(y_test, y_pred)\n",
        "\n",
        "    # Store results\n",
        "    model_results[name] = {\n",
        "        'MSE': mse,\n",
        "        'RMSE': rmse,\n",
        "        'MAE': mae,\n",
        "        'R²_original': r2,\n",
        "        'R²_log': r2_log,\n",
        "        'CV_mean': cv_scores.mean(),\n",
        "        'CV_std': cv_scores.std(),\n",
        "        'model': model\n",
        "    }\n",
        "\n",
        "    print(f\"Results for {name}:\")\n",
        "    print(f\"  RMSE: ${rmse:,.2f}\")\n",
        "    print(f\"  MAE: ${mae:,.2f}\")\n",
        "    print(f\"  R² (original scale): {r2:.4f}\")\n",
        "    print(f\"  R² (log scale): {r2_log:.4f}\")\n",
        "    print(f\"  CV R² (mean ± std): {cv_scores.mean():.4f} ± {cv_scores.std():.4f}\")"
      ],
      "metadata": {
        "colab": {
          "base_uri": "https://localhost:8080/"
        },
        "id": "4Ls2hW0yRk0X",
        "outputId": "313d1451-b954-4996-bf4a-3bfcfbdf962f"
      },
      "execution_count": 44,
      "outputs": [
        {
          "output_type": "stream",
          "name": "stdout",
          "text": [
            "\n",
            "Training Ridge Regression...\n",
            "Results for Ridge Regression:\n",
            "  RMSE: $82,080.51\n",
            "  MAE: $36,868.45\n",
            "  R² (original scale): 0.9180\n",
            "  R² (log scale): 0.9650\n",
            "  CV R² (mean ± std): 0.9367 ± 0.0279\n",
            "\n",
            "Training Lasso Regression...\n",
            "Results for Lasso Regression:\n",
            "  RMSE: $146,114.41\n",
            "  MAE: $99,428.72\n",
            "  R² (original scale): 0.7400\n",
            "  R² (log scale): 0.7827\n",
            "  CV R² (mean ± std): 0.7683 ± 0.0170\n",
            "\n",
            "Training Random Forest...\n",
            "Results for Random Forest:\n",
            "  RMSE: $21,274.15\n",
            "  MAE: $8,029.74\n",
            "  R² (original scale): 0.9945\n",
            "  R² (log scale): 0.9970\n",
            "  CV R² (mean ± std): 0.9866 ± 0.0124\n",
            "\n",
            "Training Extra Trees...\n",
            "Results for Extra Trees:\n",
            "  RMSE: $24,744.05\n",
            "  MAE: $8,240.63\n",
            "  R² (original scale): 0.9925\n",
            "  R² (log scale): 0.9959\n",
            "  CV R² (mean ± std): 0.9813 ± 0.0137\n",
            "\n",
            "Training Gradient Boosting...\n",
            "Results for Gradient Boosting:\n",
            "  RMSE: $17,665.29\n",
            "  MAE: $8,549.89\n",
            "  R² (original scale): 0.9962\n",
            "  R² (log scale): 0.9978\n",
            "  CV R² (mean ± std): 0.9879 ± 0.0105\n"
          ]
        }
      ]
    },
    {
      "cell_type": "markdown",
      "source": [
        "# 8 - Models Comparison and Results"
      ],
      "metadata": {
        "id": "WMJxQtDiR4rj"
      }
    },
    {
      "cell_type": "code",
      "source": [
        "# Create detailed results DataFrame\n",
        "results_df = pd.DataFrame({\n",
        "    'Model': list(model_results.keys()),\n",
        "    'RMSE': [results['RMSE'] for results in model_results.values()],\n",
        "    'MAE': [results['MAE'] for results in model_results.values()],\n",
        "    'R²_Original': [results['R²_original'] for results in model_results.values()],\n",
        "    'R²_Log': [results['R²_log'] for results in model_results.values()],\n",
        "    'CV_R²_Mean': [results['CV_mean'] for results in model_results.values()],\n",
        "    'CV_R²_Std': [results['CV_std'] for results in model_results.values()]\n",
        "})\n",
        "\n",
        "results_df.round(4)"
      ],
      "metadata": {
        "colab": {
          "base_uri": "https://localhost:8080/",
          "height": 206
        },
        "id": "z_H22a4ISWL6",
        "outputId": "28438392-05fc-4b54-8886-baa30a38bb1e"
      },
      "execution_count": 45,
      "outputs": [
        {
          "output_type": "execute_result",
          "data": {
            "text/plain": [
              "               Model         RMSE         MAE  R²_Original  R²_Log  \\\n",
              "0   Ridge Regression   82080.5061  36868.4488       0.9180  0.9650   \n",
              "1   Lasso Regression  146114.4143  99428.7158       0.7400  0.7827   \n",
              "2      Random Forest   21274.1504   8029.7434       0.9945  0.9970   \n",
              "3        Extra Trees   24744.0495   8240.6260       0.9925  0.9959   \n",
              "4  Gradient Boosting   17665.2862   8549.8917       0.9962  0.9978   \n",
              "\n",
              "   CV_R²_Mean  CV_R²_Std  \n",
              "0      0.9367     0.0279  \n",
              "1      0.7683     0.0170  \n",
              "2      0.9866     0.0124  \n",
              "3      0.9813     0.0137  \n",
              "4      0.9879     0.0105  "
            ],
            "text/html": [
              "\n",
              "  <div id=\"df-f007c5db-0267-49cb-860f-06ae561db692\" class=\"colab-df-container\">\n",
              "    <div>\n",
              "<style scoped>\n",
              "    .dataframe tbody tr th:only-of-type {\n",
              "        vertical-align: middle;\n",
              "    }\n",
              "\n",
              "    .dataframe tbody tr th {\n",
              "        vertical-align: top;\n",
              "    }\n",
              "\n",
              "    .dataframe thead th {\n",
              "        text-align: right;\n",
              "    }\n",
              "</style>\n",
              "<table border=\"1\" class=\"dataframe\">\n",
              "  <thead>\n",
              "    <tr style=\"text-align: right;\">\n",
              "      <th></th>\n",
              "      <th>Model</th>\n",
              "      <th>RMSE</th>\n",
              "      <th>MAE</th>\n",
              "      <th>R²_Original</th>\n",
              "      <th>R²_Log</th>\n",
              "      <th>CV_R²_Mean</th>\n",
              "      <th>CV_R²_Std</th>\n",
              "    </tr>\n",
              "  </thead>\n",
              "  <tbody>\n",
              "    <tr>\n",
              "      <th>0</th>\n",
              "      <td>Ridge Regression</td>\n",
              "      <td>82080.5061</td>\n",
              "      <td>36868.4488</td>\n",
              "      <td>0.9180</td>\n",
              "      <td>0.9650</td>\n",
              "      <td>0.9367</td>\n",
              "      <td>0.0279</td>\n",
              "    </tr>\n",
              "    <tr>\n",
              "      <th>1</th>\n",
              "      <td>Lasso Regression</td>\n",
              "      <td>146114.4143</td>\n",
              "      <td>99428.7158</td>\n",
              "      <td>0.7400</td>\n",
              "      <td>0.7827</td>\n",
              "      <td>0.7683</td>\n",
              "      <td>0.0170</td>\n",
              "    </tr>\n",
              "    <tr>\n",
              "      <th>2</th>\n",
              "      <td>Random Forest</td>\n",
              "      <td>21274.1504</td>\n",
              "      <td>8029.7434</td>\n",
              "      <td>0.9945</td>\n",
              "      <td>0.9970</td>\n",
              "      <td>0.9866</td>\n",
              "      <td>0.0124</td>\n",
              "    </tr>\n",
              "    <tr>\n",
              "      <th>3</th>\n",
              "      <td>Extra Trees</td>\n",
              "      <td>24744.0495</td>\n",
              "      <td>8240.6260</td>\n",
              "      <td>0.9925</td>\n",
              "      <td>0.9959</td>\n",
              "      <td>0.9813</td>\n",
              "      <td>0.0137</td>\n",
              "    </tr>\n",
              "    <tr>\n",
              "      <th>4</th>\n",
              "      <td>Gradient Boosting</td>\n",
              "      <td>17665.2862</td>\n",
              "      <td>8549.8917</td>\n",
              "      <td>0.9962</td>\n",
              "      <td>0.9978</td>\n",
              "      <td>0.9879</td>\n",
              "      <td>0.0105</td>\n",
              "    </tr>\n",
              "  </tbody>\n",
              "</table>\n",
              "</div>\n",
              "    <div class=\"colab-df-buttons\">\n",
              "\n",
              "  <div class=\"colab-df-container\">\n",
              "    <button class=\"colab-df-convert\" onclick=\"convertToInteractive('df-f007c5db-0267-49cb-860f-06ae561db692')\"\n",
              "            title=\"Convert this dataframe to an interactive table.\"\n",
              "            style=\"display:none;\">\n",
              "\n",
              "  <svg xmlns=\"http://www.w3.org/2000/svg\" height=\"24px\" viewBox=\"0 -960 960 960\">\n",
              "    <path d=\"M120-120v-720h720v720H120Zm60-500h600v-160H180v160Zm220 220h160v-160H400v160Zm0 220h160v-160H400v160ZM180-400h160v-160H180v160Zm440 0h160v-160H620v160ZM180-180h160v-160H180v160Zm440 0h160v-160H620v160Z\"/>\n",
              "  </svg>\n",
              "    </button>\n",
              "\n",
              "  <style>\n",
              "    .colab-df-container {\n",
              "      display:flex;\n",
              "      gap: 12px;\n",
              "    }\n",
              "\n",
              "    .colab-df-convert {\n",
              "      background-color: #E8F0FE;\n",
              "      border: none;\n",
              "      border-radius: 50%;\n",
              "      cursor: pointer;\n",
              "      display: none;\n",
              "      fill: #1967D2;\n",
              "      height: 32px;\n",
              "      padding: 0 0 0 0;\n",
              "      width: 32px;\n",
              "    }\n",
              "\n",
              "    .colab-df-convert:hover {\n",
              "      background-color: #E2EBFA;\n",
              "      box-shadow: 0px 1px 2px rgba(60, 64, 67, 0.3), 0px 1px 3px 1px rgba(60, 64, 67, 0.15);\n",
              "      fill: #174EA6;\n",
              "    }\n",
              "\n",
              "    .colab-df-buttons div {\n",
              "      margin-bottom: 4px;\n",
              "    }\n",
              "\n",
              "    [theme=dark] .colab-df-convert {\n",
              "      background-color: #3B4455;\n",
              "      fill: #D2E3FC;\n",
              "    }\n",
              "\n",
              "    [theme=dark] .colab-df-convert:hover {\n",
              "      background-color: #434B5C;\n",
              "      box-shadow: 0px 1px 3px 1px rgba(0, 0, 0, 0.15);\n",
              "      filter: drop-shadow(0px 1px 2px rgba(0, 0, 0, 0.3));\n",
              "      fill: #FFFFFF;\n",
              "    }\n",
              "  </style>\n",
              "\n",
              "    <script>\n",
              "      const buttonEl =\n",
              "        document.querySelector('#df-f007c5db-0267-49cb-860f-06ae561db692 button.colab-df-convert');\n",
              "      buttonEl.style.display =\n",
              "        google.colab.kernel.accessAllowed ? 'block' : 'none';\n",
              "\n",
              "      async function convertToInteractive(key) {\n",
              "        const element = document.querySelector('#df-f007c5db-0267-49cb-860f-06ae561db692');\n",
              "        const dataTable =\n",
              "          await google.colab.kernel.invokeFunction('convertToInteractive',\n",
              "                                                    [key], {});\n",
              "        if (!dataTable) return;\n",
              "\n",
              "        const docLinkHtml = 'Like what you see? Visit the ' +\n",
              "          '<a target=\"_blank\" href=https://colab.research.google.com/notebooks/data_table.ipynb>data table notebook</a>'\n",
              "          + ' to learn more about interactive tables.';\n",
              "        element.innerHTML = '';\n",
              "        dataTable['output_type'] = 'display_data';\n",
              "        await google.colab.output.renderOutput(dataTable, element);\n",
              "        const docLink = document.createElement('div');\n",
              "        docLink.innerHTML = docLinkHtml;\n",
              "        element.appendChild(docLink);\n",
              "      }\n",
              "    </script>\n",
              "  </div>\n",
              "\n",
              "\n",
              "    <div id=\"df-f2c29846-8c99-4082-af24-cd7527e9c8de\">\n",
              "      <button class=\"colab-df-quickchart\" onclick=\"quickchart('df-f2c29846-8c99-4082-af24-cd7527e9c8de')\"\n",
              "                title=\"Suggest charts\"\n",
              "                style=\"display:none;\">\n",
              "\n",
              "<svg xmlns=\"http://www.w3.org/2000/svg\" height=\"24px\"viewBox=\"0 0 24 24\"\n",
              "     width=\"24px\">\n",
              "    <g>\n",
              "        <path d=\"M19 3H5c-1.1 0-2 .9-2 2v14c0 1.1.9 2 2 2h14c1.1 0 2-.9 2-2V5c0-1.1-.9-2-2-2zM9 17H7v-7h2v7zm4 0h-2V7h2v10zm4 0h-2v-4h2v4z\"/>\n",
              "    </g>\n",
              "</svg>\n",
              "      </button>\n",
              "\n",
              "<style>\n",
              "  .colab-df-quickchart {\n",
              "      --bg-color: #E8F0FE;\n",
              "      --fill-color: #1967D2;\n",
              "      --hover-bg-color: #E2EBFA;\n",
              "      --hover-fill-color: #174EA6;\n",
              "      --disabled-fill-color: #AAA;\n",
              "      --disabled-bg-color: #DDD;\n",
              "  }\n",
              "\n",
              "  [theme=dark] .colab-df-quickchart {\n",
              "      --bg-color: #3B4455;\n",
              "      --fill-color: #D2E3FC;\n",
              "      --hover-bg-color: #434B5C;\n",
              "      --hover-fill-color: #FFFFFF;\n",
              "      --disabled-bg-color: #3B4455;\n",
              "      --disabled-fill-color: #666;\n",
              "  }\n",
              "\n",
              "  .colab-df-quickchart {\n",
              "    background-color: var(--bg-color);\n",
              "    border: none;\n",
              "    border-radius: 50%;\n",
              "    cursor: pointer;\n",
              "    display: none;\n",
              "    fill: var(--fill-color);\n",
              "    height: 32px;\n",
              "    padding: 0;\n",
              "    width: 32px;\n",
              "  }\n",
              "\n",
              "  .colab-df-quickchart:hover {\n",
              "    background-color: var(--hover-bg-color);\n",
              "    box-shadow: 0 1px 2px rgba(60, 64, 67, 0.3), 0 1px 3px 1px rgba(60, 64, 67, 0.15);\n",
              "    fill: var(--button-hover-fill-color);\n",
              "  }\n",
              "\n",
              "  .colab-df-quickchart-complete:disabled,\n",
              "  .colab-df-quickchart-complete:disabled:hover {\n",
              "    background-color: var(--disabled-bg-color);\n",
              "    fill: var(--disabled-fill-color);\n",
              "    box-shadow: none;\n",
              "  }\n",
              "\n",
              "  .colab-df-spinner {\n",
              "    border: 2px solid var(--fill-color);\n",
              "    border-color: transparent;\n",
              "    border-bottom-color: var(--fill-color);\n",
              "    animation:\n",
              "      spin 1s steps(1) infinite;\n",
              "  }\n",
              "\n",
              "  @keyframes spin {\n",
              "    0% {\n",
              "      border-color: transparent;\n",
              "      border-bottom-color: var(--fill-color);\n",
              "      border-left-color: var(--fill-color);\n",
              "    }\n",
              "    20% {\n",
              "      border-color: transparent;\n",
              "      border-left-color: var(--fill-color);\n",
              "      border-top-color: var(--fill-color);\n",
              "    }\n",
              "    30% {\n",
              "      border-color: transparent;\n",
              "      border-left-color: var(--fill-color);\n",
              "      border-top-color: var(--fill-color);\n",
              "      border-right-color: var(--fill-color);\n",
              "    }\n",
              "    40% {\n",
              "      border-color: transparent;\n",
              "      border-right-color: var(--fill-color);\n",
              "      border-top-color: var(--fill-color);\n",
              "    }\n",
              "    60% {\n",
              "      border-color: transparent;\n",
              "      border-right-color: var(--fill-color);\n",
              "    }\n",
              "    80% {\n",
              "      border-color: transparent;\n",
              "      border-right-color: var(--fill-color);\n",
              "      border-bottom-color: var(--fill-color);\n",
              "    }\n",
              "    90% {\n",
              "      border-color: transparent;\n",
              "      border-bottom-color: var(--fill-color);\n",
              "    }\n",
              "  }\n",
              "</style>\n",
              "\n",
              "      <script>\n",
              "        async function quickchart(key) {\n",
              "          const quickchartButtonEl =\n",
              "            document.querySelector('#' + key + ' button');\n",
              "          quickchartButtonEl.disabled = true;  // To prevent multiple clicks.\n",
              "          quickchartButtonEl.classList.add('colab-df-spinner');\n",
              "          try {\n",
              "            const charts = await google.colab.kernel.invokeFunction(\n",
              "                'suggestCharts', [key], {});\n",
              "          } catch (error) {\n",
              "            console.error('Error during call to suggestCharts:', error);\n",
              "          }\n",
              "          quickchartButtonEl.classList.remove('colab-df-spinner');\n",
              "          quickchartButtonEl.classList.add('colab-df-quickchart-complete');\n",
              "        }\n",
              "        (() => {\n",
              "          let quickchartButtonEl =\n",
              "            document.querySelector('#df-f2c29846-8c99-4082-af24-cd7527e9c8de button');\n",
              "          quickchartButtonEl.style.display =\n",
              "            google.colab.kernel.accessAllowed ? 'block' : 'none';\n",
              "        })();\n",
              "      </script>\n",
              "    </div>\n",
              "\n",
              "    </div>\n",
              "  </div>\n"
            ],
            "application/vnd.google.colaboratory.intrinsic+json": {
              "type": "dataframe",
              "summary": "{\n  \"name\": \"results_df\",\n  \"rows\": 5,\n  \"fields\": [\n    {\n      \"column\": \"Model\",\n      \"properties\": {\n        \"dtype\": \"string\",\n        \"num_unique_values\": 5,\n        \"samples\": [\n          \"Lasso Regression\",\n          \"Gradient Boosting\",\n          \"Random Forest\"\n        ],\n        \"semantic_type\": \"\",\n        \"description\": \"\"\n      }\n    },\n    {\n      \"column\": \"RMSE\",\n      \"properties\": {\n        \"dtype\": \"number\",\n        \"std\": 55733.631025388335,\n        \"min\": 17665.2862,\n        \"max\": 146114.4143,\n        \"num_unique_values\": 5,\n        \"samples\": [\n          146114.4143,\n          17665.2862,\n          21274.1504\n        ],\n        \"semantic_type\": \"\",\n        \"description\": \"\"\n      }\n    },\n    {\n      \"column\": \"MAE\",\n      \"properties\": {\n        \"dtype\": \"number\",\n        \"std\": 39557.14983963025,\n        \"min\": 8029.7434,\n        \"max\": 99428.7158,\n        \"num_unique_values\": 5,\n        \"samples\": [\n          99428.7158,\n          8549.8917,\n          8029.7434\n        ],\n        \"semantic_type\": \"\",\n        \"description\": \"\"\n      }\n    },\n    {\n      \"column\": \"R\\u00b2_Original\",\n      \"properties\": {\n        \"dtype\": \"number\",\n        \"std\": 0.11031483581096425,\n        \"min\": 0.74,\n        \"max\": 0.9962,\n        \"num_unique_values\": 5,\n        \"samples\": [\n          0.74,\n          0.9962,\n          0.9945\n        ],\n        \"semantic_type\": \"\",\n        \"description\": \"\"\n      }\n    },\n    {\n      \"column\": \"R\\u00b2_Log\",\n      \"properties\": {\n        \"dtype\": \"number\",\n        \"std\": 0.0932577449866766,\n        \"min\": 0.7827,\n        \"max\": 0.9978,\n        \"num_unique_values\": 5,\n        \"samples\": [\n          0.7827,\n          0.9978,\n          0.997\n        ],\n        \"semantic_type\": \"\",\n        \"description\": \"\"\n      }\n    },\n    {\n      \"column\": \"CV_R\\u00b2_Mean\",\n      \"properties\": {\n        \"dtype\": \"number\",\n        \"std\": 0.09401610500334504,\n        \"min\": 0.7683,\n        \"max\": 0.9879,\n        \"num_unique_values\": 5,\n        \"samples\": [\n          0.7683,\n          0.9879,\n          0.9866\n        ],\n        \"semantic_type\": \"\",\n        \"description\": \"\"\n      }\n    },\n    {\n      \"column\": \"CV_R\\u00b2_Std\",\n      \"properties\": {\n        \"dtype\": \"number\",\n        \"std\": 0.006903984356876831,\n        \"min\": 0.0105,\n        \"max\": 0.0279,\n        \"num_unique_values\": 5,\n        \"samples\": [\n          0.017,\n          0.0105,\n          0.0124\n        ],\n        \"semantic_type\": \"\",\n        \"description\": \"\"\n      }\n    }\n  ]\n}"
            }
          },
          "metadata": {},
          "execution_count": 45
        }
      ]
    },
    {
      "cell_type": "code",
      "source": [
        "# Identify best model\n",
        "best_model_name = results_df.loc[results_df['R²_Original'].idxmax(), 'Model']\n",
        "best_r2 = results_df['R²_Original'].max()\n",
        "\n",
        "print(f\"\\nBest performing model: {best_model_name}\")\n",
        "print(f\"Best R² score: {best_r2:.4f}\")"
      ],
      "metadata": {
        "colab": {
          "base_uri": "https://localhost:8080/"
        },
        "id": "BYyURXzaSka1",
        "outputId": "99bb24ca-4837-4e32-8355-f6f07d48d08f"
      },
      "execution_count": 46,
      "outputs": [
        {
          "output_type": "stream",
          "name": "stdout",
          "text": [
            "\n",
            "Best performing model: Gradient Boosting\n",
            "Best R² score: 0.9962\n"
          ]
        }
      ]
    },
    {
      "cell_type": "markdown",
      "source": [
        "# 9 - Feature Importance Analysis"
      ],
      "metadata": {
        "id": "6lhmb_qTS8UI"
      }
    },
    {
      "cell_type": "code",
      "source": [
        "# Get feature importance from best tree-based model\n",
        "tree_models = ['Random Forest', 'Extra Trees', 'Gradient Boosting']\n",
        "best_tree_model = None\n",
        "best_tree_r2 = -1\n",
        "\n",
        "for model_name in tree_models:\n",
        "    if model_name in model_results and model_results[model_name]['R²_original'] > best_tree_r2:\n",
        "        best_tree_model = model_results[model_name]['model']\n",
        "        best_tree_r2 = model_results[model_name]['R²_original']\n",
        "        best_tree_name = model_name\n",
        "\n",
        "if best_tree_model is not None:\n",
        "    feature_importance = pd.DataFrame({\n",
        "        'feature': selected_features,\n",
        "        'importance': best_tree_model.feature_importances_\n",
        "    }).sort_values('importance', ascending=False)\n",
        "\n",
        "    print(f\"Top 15 Most Important Features ({best_tree_name}):\")\n",
        "    print(feature_importance.head(15))\n",
        "\n",
        "    # Visualize feature importance\n",
        "    plt.figure(figsize=(12, 10))\n",
        "    top_features = feature_importance.head(20)\n",
        "    sns.barplot(data=top_features, y='feature', x='importance', palette='viridis')\n",
        "    plt.title(f'Top 20 Feature Importance ({best_tree_name})')\n",
        "    plt.xlabel('Importance')\n",
        "    plt.tight_layout()\n",
        "    plt.show()"
      ],
      "metadata": {
        "colab": {
          "base_uri": "https://localhost:8080/",
          "height": 1000
        },
        "id": "KQXi4RdmTMLE",
        "outputId": "6db751e5-6a34-4ee9-e853-c6ef9a0a3e65"
      },
      "execution_count": 47,
      "outputs": [
        {
          "output_type": "stream",
          "name": "stdout",
          "text": [
            "Top 15 Most Important Features (Gradient Boosting):\n",
            "             feature  importance\n",
            "16    price_per_sqft    0.518527\n",
            "2        sqft_living    0.235836\n",
            "27   log_sqft_living    0.231471\n",
            "18        total_sqft    0.009292\n",
            "24    city_price_std    0.001544\n",
            "29    log_sqft_above    0.001111\n",
            "8         sqft_above    0.000678\n",
            "10          yr_built    0.000198\n",
            "22     quality_score    0.000196\n",
            "23    city_avg_price    0.000145\n",
            "21  sqft_per_bedroom    0.000145\n",
            "25        city_count    0.000131\n",
            "1          bathrooms    0.000096\n",
            "7          condition    0.000082\n",
            "13       age_squared    0.000079\n"
          ]
        },
        {
          "output_type": "display_data",
          "data": {
            "text/plain": [
              "<Figure size 1200x1000 with 1 Axes>"
            ],
            "image/png": "[encoded data removed]"
          },
          "metadata": {}
        }
      ]
    },
    {
      "cell_type": "code",
      "source": [
        "print(\"\\n=== RESIDUAL ANALYSIS ===\")\n",
        "\n",
        "# Analyze residuals for the best model\n",
        "best_model = model_results[best_model_name]['model']\n",
        "\n",
        "if 'Regression' in best_model_name and 'Forest' not in best_model_name:\n",
        "    y_pred_best = best_model.predict(X_test_scaled)\n",
        "else:\n",
        "    y_pred_best = best_model.predict(X_test)\n",
        "\n",
        "# Convert to original scale\n",
        "y_pred_best_original = np.exp(y_pred_best)\n",
        "y_test_original = np.exp(y_test)\n",
        "\n",
        "residuals = y_test_original - y_pred_best_original\n",
        "\n",
        "# Plot residuals\n",
        "fig, axes = plt.subplots(2, 2, figsize=(16, 12))\n",
        "\n",
        "# Residuals vs Predicted\n",
        "axes[0, 0].scatter(y_pred_best_original, residuals, alpha=0.6)\n",
        "axes[0, 0].axhline(y=0, color='r', linestyle='--')\n",
        "axes[0, 0].set_xlabel('Predicted Price')\n",
        "axes[0, 0].set_ylabel('Residuals')\n",
        "axes[0, 0].set_title('Residuals vs Predicted Values')\n",
        "\n",
        "# Residuals histogram\n",
        "axes[0, 1].hist(residuals, bins=50, alpha=0.7, edgecolor='black')\n",
        "axes[0, 1].set_xlabel('Residuals')\n",
        "axes[0, 1].set_ylabel('Frequency')\n",
        "axes[0, 1].set_title('Residuals Distribution')\n",
        "\n",
        "# Q-Q plot of residuals\n",
        "stats.probplot(residuals, dist=\"norm\", plot=axes[1, 0])\n",
        "axes[1, 0].set_title('Q-Q Plot: Residuals')\n",
        "\n",
        "# Actual vs Predicted\n",
        "axes[1, 1].scatter(y_test_original, y_pred_best_original, alpha=0.6)\n",
        "axes[1, 1].plot([y_test_original.min(), y_test_original.max()],\n",
        "                [y_test_original.min(), y_test_original.max()], 'r--', lw=2)\n",
        "axes[1, 1].set_xlabel('Actual Price')\n",
        "axes[1, 1].set_ylabel('Predicted Price')\n",
        "axes[1, 1].set_title(f'Actual vs Predicted ({best_model_name})')\n",
        "\n",
        "plt.tight_layout()\n",
        "plt.show()"
      ],
      "metadata": {
        "colab": {
          "base_uri": "https://localhost:8080/",
          "height": 1000
        },
        "id": "J7617hLYTcYi",
        "outputId": "1e023834-915b-4651-95e2-31fb488f87c8"
      },
      "execution_count": 48,
      "outputs": [
        {
          "output_type": "stream",
          "name": "stdout",
          "text": [
            "\n",
            "=== RESIDUAL ANALYSIS ===\n"
          ]
        },
        {
          "output_type": "display_data",
          "data": {
            "text/plain": [
              "<Figure size 1600x1200 with 4 Axes>"
            ],
            "image/png": "[encoded data removed]"
          },
          "metadata": {}
        }
      ]
    },
    {
      "cell_type": "code",
      "source": [
        "print(f\"\\nFinal Results:\")\n",
        "print(f\"• Best Model: {best_model_name}\")\n",
        "print(f\"• R² Score: {best_r2:.4f}\")\n",
        "print(f\"• RMSE: ${results_df.loc[results_df['R²_Original'].idxmax(), 'RMSE']:,.2f}\")\n",
        "print(f\"• Cross-validation R²: {results_df.loc[results_df['R²_Original'].idxmax(), 'CV_R²_Mean']:.4f} ± {results_df.loc[results_df['R²_Original'].idxmax(), 'CV_R²_Std']:.4f}\")\n"
      ],
      "metadata": {
        "colab": {
          "base_uri": "https://localhost:8080/"
        },
        "id": "-P01U1bPTq7z",
        "outputId": "1277859a-1152-483b-fbc8-642fbaabd56d"
      },
      "execution_count": 49,
      "outputs": [
        {
          "output_type": "stream",
          "name": "stdout",
          "text": [
            "\n",
            "Final Results:\n",
            "• Best Model: Gradient Boosting\n",
            "• R² Score: 0.9962\n",
            "• RMSE: $17,665.29\n",
            "• Cross-validation R²: 0.9879 ± 0.0105\n"
          ]
        }
      ]
    }
  ]
}